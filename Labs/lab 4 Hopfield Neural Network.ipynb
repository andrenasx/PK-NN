{
 "cells": [
  {
   "cell_type": "markdown",
   "id": "14832368-fcd9-4258-8b0d-2481ad64a587",
   "metadata": {},
   "source": [
    "### NEURAL NETWORKS, Lab4 - Hopfield Neural Network"
   ]
  },
  {
   "cell_type": "markdown",
   "id": "4387f02f-35c6-4243-903f-2449bad3627f",
   "metadata": {},
   "source": [
    "## Excercise 1\n",
    "Test the followin tool for visualizing numpy arrays as pixel images"
   ]
  },
  {
   "cell_type": "code",
   "execution_count": 56,
   "id": "1b1489ff-6095-4cc2-a244-69a3878fb146",
   "metadata": {},
   "outputs": [
    {
     "data": {
      "image/png": "[encoded data removed]",
      "text/plain": [
       "<Figure size 432x288 with 1 Axes>"
      ]
     },
     "metadata": {
      "needs_background": "light"
     },
     "output_type": "display_data"
    }
   ],
   "source": [
    "import matplotlib.pyplot as plt\n",
    "from matplotlib.colors import ListedColormap\n",
    "import numpy as np\n",
    "import math\n",
    "\n",
    "data_both = np.random.randint(0, 2, size=(8, 8))\n",
    "\n",
    "cmapmine = ListedColormap(['w', 'b'], N=2)\n",
    "\n",
    "def visualize(array_to_plot):\n",
    "    fig, ax = plt.subplots()\n",
    "    ax.imshow(array_to_plot, cmap=cmapmine, vmin=-1, vmax=1)\n",
    "    plt.show()\n",
    "\n",
    "#please try to create other matrices and visualize them:\n",
    "test_array = np.array([[-1, 1, 1, 1, -1],[1, -1, -1, -1, 1],[1, -1, -1, -1, 1],[1, -1, -1, -1, 1],[-1, 1, 1, 1, -1]])\n",
    "    \n",
    "visualize(test_array)"
   ]
  },
  {
   "cell_type": "markdown",
   "id": "02e948ad-46a0-46a8-b036-c9ed301b2a4c",
   "metadata": {
    "tags": []
   },
   "source": [
    "## Excercise 2\n",
    "Please, implement the Hopfield Neural Network, using numpy package"
   ]
  },
  {
   "cell_type": "code",
   "execution_count": 57,
   "id": "38155fce-fc4b-4130-9572-d3619d3b7353",
   "metadata": {},
   "outputs": [],
   "source": [
    "class HNN:\n",
    "\n",
    "\n",
    "    #use __init__(self,d) function to construct the HNN object (d - number of neurons) and to set the starting values of weights and bias\n",
    "    def __init__(self, d):\n",
    "        #YOUR CODE HERE\n",
    "        self.d = d\n",
    "        self.w = np.zeros((d,d))\n",
    "        self.b = np.zeros(d)\n",
    "    \n",
    "    #implement a function accepting a pattern dataset as a parameter and calculating the weights and biases of the HNN. \n",
    "    def learn(self, pattern_dataset):\n",
    "        #YOUR CODE HERE\n",
    "        \n",
    "        pdr = np.array([np.reshape(x, self.d) for x in pattern_dataset])\n",
    "        N = pdr.shape[0]\n",
    "        \n",
    "        self.w = np.dot(pdr.T, pdr)/N\n",
    "        for i in range(self.d):\n",
    "            self.w[i][i] = 0.0\n",
    "        \n",
    "        self.b = pdr.mean(axis=0)\n",
    "        \n",
    "    \n",
    "    #implement a function for restoring the given pattern\n",
    "    def restore_one(self, pattern):\n",
    "        #YOUR CODE HERE\n",
    "        rest = np.dot(self.w, np.reshape(pattern, self.d))+self.b\n",
    "        return np.reshape(np.where(rest >= 0.0, 1, -1), ((int)(math.sqrt(self.d)), (int)(math.sqrt(self.d))))\n",
    "    \n",
    "    #implement a function for restoring a set of patterns\n",
    "    def restore(self, set_of_patterns):\n",
    "        #YOUR CODE HERE\n",
    "        a = []\n",
    "        for pat in set_of_patterns:\n",
    "            a.append(self.restore_one(pat))            \n",
    "        return a\n",
    "    \n",
    "    #implement a function returning the energy of HNN for a given input\n",
    "    def energy(self, pattern):\n",
    "        #YOUR CODE HERE\n",
    "        e1 = 0.5*np.dot(np.reshape(pattern, (-1,1)).T, np.dot(self.w, pattern.reshape(-1,1)))[0][0]\n",
    "        e2 = np.dot(self.b, np.reshape(pattern, self.d))\n",
    "        return -e1-e2\n",
    "        "
   ]
  },
  {
   "cell_type": "markdown",
   "id": "3a400ad6-cccf-46f1-84f9-5365f0b124dd",
   "metadata": {},
   "source": [
    "## Excercise 3\n",
    "1.Prepare a few training patterns in a number lower than 0.138*d)\n",
    "\n",
    "2.Visualize your patterns\n",
    "\n",
    "3.Create a HNN object, train it using your pattern dataset\n",
    "\n",
    "4.Compare the energy values for your patterns with energies for some random patterns"
   ]
  },
  {
   "cell_type": "code",
   "execution_count": 58,
   "id": "7b383275-371d-4336-9543-c4b627eb401e",
   "metadata": {},
   "outputs": [
    {
     "data": {
      "image/png": "[encoded data removed]",
      "text/plain": [
       "<Figure size 432x288 with 1 Axes>"
      ]
     },
     "metadata": {
      "needs_background": "light"
     },
     "output_type": "display_data"
    },
    {
     "data": {
      "image/png": "[encoded data removed]",
      "text/plain": [
       "<Figure size 432x288 with 1 Axes>"
      ]
     },
     "metadata": {
      "needs_background": "light"
     },
     "output_type": "display_data"
    },
    {
     "data": {
      "image/png": "[encoded data removed]",
      "text/plain": [
       "<Figure size 432x288 with 1 Axes>"
      ]
     },
     "metadata": {
      "needs_background": "light"
     },
     "output_type": "display_data"
    }
   ],
   "source": [
    "p1 = np.array([[1, 1, 1, 1, 1],[1, -1, -1, -1, 1],[1, 1, 1, 1, 1],[1, -1, -1, -1, 1],[1, -1, -1, -1, 1]])\n",
    "p2 = np.array([[1, 1, 1, 1, 1],[1, -1, -1, -1, -1],[1, 1, 1, 1, 1],[1, -1, -1, -1, -1],[1, 1, 1, 1, 1]])\n",
    "p3 = np.array([[1, 1, 1, 1, 1],[-1, -1, 1, -1, -1],[-1, -1, 1, -1, -1],[-1, -1, 1, -1, -1],[-1, -1, 1, -1, -1]])\n",
    "\n",
    "visualize(p1)\n",
    "visualize(p2)\n",
    "visualize(p3)"
   ]
  },
  {
   "cell_type": "code",
   "execution_count": 77,
   "id": "5bf91512-3187-47ff-9d10-2e18ae78d14b",
   "metadata": {},
   "outputs": [],
   "source": [
    "hnn = HNN(25)\n",
    "hnn.learn([p1, p2, p3])"
   ]
  },
  {
   "cell_type": "code",
   "execution_count": 78,
   "id": "cd1dcd75-ab70-41fd-b58d-55a819f41f14",
   "metadata": {},
   "outputs": [
    {
     "data": {
      "image/png": "[encoded data removed]",
      "text/plain": [
       "<Figure size 432x288 with 1 Axes>"
      ]
     },
     "metadata": {
      "needs_background": "light"
     },
     "output_type": "display_data"
    },
    {
     "data": {
      "image/png": "[encoded data removed]",
      "text/plain": [
       "<Figure size 432x288 with 1 Axes>"
      ]
     },
     "metadata": {
      "needs_background": "light"
     },
     "output_type": "display_data"
    }
   ],
   "source": [
    "prand1 = np.array([[1, -1, 1, -1, 1], [-1, 1, -1, 1, -1], [1, -1, 1, -1, 1], [-1, 1, -1, 1, -1], [1, -1, 1, -1, 1]])\n",
    "prand2 = np.array([[-1, 1, 1, -1, 1], [-1, 1, 1, 1, -1], [1, -1, -1, -1, 1], [1, -1, -1, 1, -1], [1, -1, -1, 1, -1]])\n",
    "\n",
    "visualize(prand1)\n",
    "visualize(prand2)"
   ]
  },
  {
   "cell_type": "code",
   "execution_count": 80,
   "id": "c38a964d-24b5-43fb-a0d3-986d6692fbe9",
   "metadata": {},
   "outputs": [
    {
     "name": "stdout",
     "output_type": "stream",
     "text": [
      "-142.33333333333331\n",
      "-142.99999999999997\n",
      "-100.33333333333334\n",
      "11.666666666666664\n",
      "12.333333333333332\n"
     ]
    }
   ],
   "source": [
    "print(hnn.energy(p1))\n",
    "print(hnn.energy(p2))\n",
    "print(hnn.energy(p3))\n",
    "print(hnn.energy(prand1))\n",
    "print(hnn.energy(prand2))"
   ]
  },
  {
   "cell_type": "markdown",
   "id": "8d7d5076-dbac-4d5b-92d9-f4b472562fc0",
   "metadata": {},
   "source": [
    "## Excercise 4\n",
    "\n",
    "1.Prepare a few testing patterns:\n",
    "    \n",
    "    two slightly disturbed versions of your training patterns;\n",
    "    \n",
    "    two seriously disturbed versions of your training patterns;\n",
    "    \n",
    "    two completely random\n",
    "    \n",
    "2.Visualize your testing patterns, calculate their energies\n",
    "\n",
    "3.Try restoring the testing patterns "
   ]
  },
  {
   "cell_type": "code",
   "execution_count": 104,
   "id": "ee567515-d039-4075-bf15-e7b5fa4fdc6b",
   "metadata": {},
   "outputs": [
    {
     "data": {
      "image/png": "[encoded data removed]",
      "text/plain": [
       "<Figure size 432x288 with 1 Axes>"
      ]
     },
     "metadata": {
      "needs_background": "light"
     },
     "output_type": "display_data"
    },
    {
     "data": {
      "image/png": "[encoded data removed]",
      "text/plain": [
       "<Figure size 432x288 with 1 Axes>"
      ]
     },
     "metadata": {
      "needs_background": "light"
     },
     "output_type": "display_data"
    },
    {
     "data": {
      "image/png": "[encoded data removed]",
      "text/plain": [
       "<Figure size 432x288 with 1 Axes>"
      ]
     },
     "metadata": {
      "needs_background": "light"
     },
     "output_type": "display_data"
    },
    {
     "data": {
      "image/png": "[encoded data removed]",
      "text/plain": [
       "<Figure size 432x288 with 1 Axes>"
      ]
     },
     "metadata": {
      "needs_background": "light"
     },
     "output_type": "display_data"
    }
   ],
   "source": [
    "# YOUR CODE HERE\n",
    "p1_dist = np.array([[1, 1, -1, 1, 1],[1, -1, -1, -1, 1],[1, 1, 1, -1, 1],[1, -1, -1, -1, 1],[1, 1, -1, -1, 1]])\n",
    "p2_dist = np.array([[1, 1, 1, 1, 1],[1, -1, -1, -1, -1],[1, 1, 1, 1, 1],[1, 1, -1, -1, -1],[1, 1, 1, -1, 1]])\n",
    "p3_dist = np.array([[-1, 1, 1, 1, 1],[-1, -1, 1, -1, -1],[1, -1, -1, -1, -1],[-1, -1, 1, -1, -1],[-1, 1, 1, -1, 1]])\n",
    "p1_dist2 = np.array([[-1, 1, -1, 1, 1],[1, -1, -1, -1, 1],[-1, 1, 1, 1, 1],[1, 1, 1, -1, 1],[-1, 1, -1, -1, 1]])\n",
    "\n",
    "visualize(p1_dist)\n",
    "visualize(p2_dist)\n",
    "visualize(p3_dist)\n",
    "visualize(p1_dist2)"
   ]
  },
  {
   "cell_type": "code",
   "execution_count": 105,
   "id": "ae13056e-ab2e-4ef7-b263-02938357dd8e",
   "metadata": {},
   "outputs": [
    {
     "data": {
      "image/png": "[encoded data removed]",
      "text/plain": [
       "<Figure size 432x288 with 1 Axes>"
      ]
     },
     "metadata": {
      "needs_background": "light"
     },
     "output_type": "display_data"
    },
    {
     "name": "stdout",
     "output_type": "stream",
     "text": [
      "energy before:  -87.0\n",
      "energy after:  -142.33333333333331\n"
     ]
    },
    {
     "data": {
      "image/png": "[encoded data removed]",
      "text/plain": [
       "<Figure size 432x288 with 1 Axes>"
      ]
     },
     "metadata": {
      "needs_background": "light"
     },
     "output_type": "display_data"
    },
    {
     "name": "stdout",
     "output_type": "stream",
     "text": [
      "energy before:  -111.0\n",
      "energy after:  -142.99999999999997\n"
     ]
    },
    {
     "data": {
      "image/png": "[encoded data removed]",
      "text/plain": [
       "<Figure size 432x288 with 1 Axes>"
      ]
     },
     "metadata": {
      "needs_background": "light"
     },
     "output_type": "display_data"
    },
    {
     "name": "stdout",
     "output_type": "stream",
     "text": [
      "energy before:  -33.0\n",
      "energy after:  -100.33333333333334\n"
     ]
    },
    {
     "data": {
      "image/png": "[encoded data removed]",
      "text/plain": [
       "<Figure size 432x288 with 1 Axes>"
      ]
     },
     "metadata": {
      "needs_background": "light"
     },
     "output_type": "display_data"
    },
    {
     "name": "stdout",
     "output_type": "stream",
     "text": [
      "energy before:  -17.666666666666664\n",
      "energy after:  -142.33333333333331\n"
     ]
    }
   ],
   "source": [
    "dist = [p1_dist, p2_dist, p3_dist, p1_dist2]\n",
    "res = hnn.restore(dist)\n",
    "\n",
    "for i in range(len(res)):\n",
    "    visualize(res[i])\n",
    "    print('energy before: ', hnn.energy(dist[i]))\n",
    "    print('energy after: ', hnn.energy(res[i]))"
   ]
  },
  {
   "cell_type": "markdown",
   "id": "fd892c48-a99a-454d-a76f-02f28859d59c",
   "metadata": {},
   "source": [
    "## Excercise 5\n",
    "\n",
    "Try to repeat Excercises 3 and 4 with a number of patterns greater than 0.138*N"
   ]
  },
  {
   "cell_type": "code",
   "execution_count": 106,
   "id": "d730a56f-a76b-4849-92c9-8e2c1f4f0958",
   "metadata": {},
   "outputs": [
    {
     "data": {
      "image/png": "[encoded data removed]",
      "text/plain": [
       "<Figure size 432x288 with 1 Axes>"
      ]
     },
     "metadata": {
      "needs_background": "light"
     },
     "output_type": "display_data"
    },
    {
     "data": {
      "image/png": "[encoded data removed]",
      "text/plain": [
       "<Figure size 432x288 with 1 Axes>"
      ]
     },
     "metadata": {
      "needs_background": "light"
     },
     "output_type": "display_data"
    },
    {
     "data": {
      "image/png": "[encoded data removed]",
      "text/plain": [
       "<Figure size 432x288 with 1 Axes>"
      ]
     },
     "metadata": {
      "needs_background": "light"
     },
     "output_type": "display_data"
    }
   ],
   "source": [
    "#YOUR CODE HERE\n",
    "\n",
    "p4 = np.array([[1, -1, -1, -1, 1],[-1, 1, -1, 1, -1],[-1, -1, 1, -1, -1],[-1, -1, 1, -1, -1], [-1, -1, 1, -1, -1]])\n",
    "p5 = np.array([[1, 1, 1, 1, 1],[1, -1, -1, -1, -1],[1, -1, -1, 1, 1],[1, -1, -1, -1, 1], [1, 1, 1, 1, 1]])\n",
    "p6 = np.array([[-1, -1, 1, -1, -1],[-1, -1, 1, -1, -1],[1, 1, 1, 1, 1],[-1, -1, 1, -1, -1], [-1, -1, 1, -1, -1]])\n",
    "\n",
    "visualize(p4)\n",
    "visualize(p5)\n",
    "visualize(p6)"
   ]
  },
  {
   "cell_type": "code",
   "execution_count": 107,
   "id": "b53fadc7-f116-4527-8f15-6934ddd81107",
   "metadata": {},
   "outputs": [],
   "source": [
    "hnn2 = HNN(25)\n",
    "hnn2.learn([p1, p2, p3, p4, p5, p6])"
   ]
  },
  {
   "cell_type": "code",
   "execution_count": 108,
   "id": "5e62e7b5-5046-40b0-ae46-dfdb5a5b4c2d",
   "metadata": {},
   "outputs": [
    {
     "name": "stdout",
     "output_type": "stream",
     "text": [
      "-86.3333333333333\n",
      "-101.66666666666663\n",
      "-68.33333333333334\n",
      "-76.33333333333333\n",
      "-99.66666666666664\n",
      "-56.33333333333333\n",
      "3.6666666666666674\n",
      "12.333333333333332\n"
     ]
    }
   ],
   "source": [
    "print(hnn2.energy(p1))\n",
    "print(hnn2.energy(p2))\n",
    "print(hnn2.energy(p3))\n",
    "print(hnn2.energy(p4))\n",
    "print(hnn2.energy(p5))\n",
    "print(hnn2.energy(p6))\n",
    "print(hnn2.energy(prand1))\n",
    "print(hnn2.energy(prand2))"
   ]
  },
  {
   "cell_type": "code",
   "execution_count": 109,
   "id": "e05317bf-2ff5-4a04-b7d2-5b6bd5ae5cbf",
   "metadata": {},
   "outputs": [
    {
     "data": {
      "image/png": "[encoded data removed]",
      "text/plain": [
       "<Figure size 432x288 with 1 Axes>"
      ]
     },
     "metadata": {
      "needs_background": "light"
     },
     "output_type": "display_data"
    },
    {
     "name": "stdout",
     "output_type": "stream",
     "text": [
      "energy before:  -55.0\n",
      "energy after:  -86.3333333333333\n"
     ]
    },
    {
     "data": {
      "image/png": "[encoded data removed]",
      "text/plain": [
       "<Figure size 432x288 with 1 Axes>"
      ]
     },
     "metadata": {
      "needs_background": "light"
     },
     "output_type": "display_data"
    },
    {
     "name": "stdout",
     "output_type": "stream",
     "text": [
      "energy before:  -73.66666666666666\n",
      "energy after:  -101.66666666666663\n"
     ]
    },
    {
     "data": {
      "image/png": "[encoded data removed]",
      "text/plain": [
       "<Figure size 432x288 with 1 Axes>"
      ]
     },
     "metadata": {
      "needs_background": "light"
     },
     "output_type": "display_data"
    },
    {
     "name": "stdout",
     "output_type": "stream",
     "text": [
      "energy before:  -19.666666666666664\n",
      "energy after:  -68.33333333333334\n"
     ]
    },
    {
     "data": {
      "image/png": "[encoded data removed]",
      "text/plain": [
       "<Figure size 432x288 with 1 Axes>"
      ]
     },
     "metadata": {
      "needs_background": "light"
     },
     "output_type": "display_data"
    },
    {
     "name": "stdout",
     "output_type": "stream",
     "text": [
      "energy before:  -7.0\n",
      "energy after:  -86.3333333333333\n"
     ]
    }
   ],
   "source": [
    "res2 = hnn2.restore(dist)\n",
    "\n",
    "for i in range(len(res2)):\n",
    "    visualize(res2[i])\n",
    "    print('energy before: ', hnn2.energy(dist[i]))\n",
    "    print('energy after: ', hnn2.energy(res[i]))"
   ]
  },
  {
   "cell_type": "code",
   "execution_count": null,
   "id": "678091fb-461b-46bf-88c6-ab765faaec44",
   "metadata": {},
   "outputs": [],
   "source": []
  }
 ],
 "metadata": {
  "kernelspec": {
   "display_name": "Python 3.10.7 64-bit",
   "language": "python",
   "name": "python3"
  },
  "language_info": {
   "codemirror_mode": {
    "name": "ipython",
    "version": 3
   },
   "file_extension": ".py",
   "mimetype": "text/x-python",
   "name": "python",
   "nbconvert_exporter": "python",
   "pygments_lexer": "ipython3",
   "version": "3.10.7"
  },
  "vscode": {
   "interpreter": {
    "hash": "1e76b92fdf8d35e2ac4e5192e1034d0c31c234365fb2d8a16f8f6adbda169ed6"
   }
  }
 },
 "nbformat": 4,
 "nbformat_minor": 5
}
