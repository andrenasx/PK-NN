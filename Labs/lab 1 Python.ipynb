{
 "cells": [
  {
   "cell_type": "markdown",
   "metadata": {
    "id": "AMMXLENOd7V-"
   },
   "source": [
    "# Neural Networks - Erasmus 2022/2023"
   ]
  },
  {
   "cell_type": "markdown",
   "metadata": {
    "id": "4ZZF68t-kiQ8",
    "tags": []
   },
   "source": [
    "# Python language basics\n",
    "\n",
    "(https://docs.python.org/3/)."
   ]
  },
  {
   "cell_type": "markdown",
   "metadata": {
    "id": "8ODf7GQ2eLho",
    "tags": []
   },
   "source": [
    "## Comments"
   ]
  },
  {
   "cell_type": "code",
   "execution_count": 1,
   "metadata": {
    "id": "BpX74XmK_BDL"
   },
   "outputs": [],
   "source": [
    "# this is a one-line comment '#'\n",
    "# Press (Shift+Enter) and see that nothing happens :)"
   ]
  },
  {
   "cell_type": "code",
   "execution_count": 2,
   "metadata": {
    "id": "xXycW_K-_H9Q"
   },
   "outputs": [
    {
     "data": {
      "text/plain": [
       "'\\nThis is a\\nmulti-line\\ncomment\\n'"
      ]
     },
     "execution_count": 2,
     "metadata": {},
     "output_type": "execute_result"
    }
   ],
   "source": [
    "\"\"\"\n",
    "This is a\n",
    "multi-line\n",
    "comment\n",
    "\"\"\""
   ]
  },
  {
   "cell_type": "markdown",
   "metadata": {
    "id": "9B7YUblnktrz",
    "jupyter": {
     "source_hidden": true
    },
    "tags": []
   },
   "source": [
    "## Function `print()`\n",
    "\n",
    "`print` is a built-in function. Check other built-in functions at https://docs.python.org/3/library/functions.html."
   ]
  },
  {
   "cell_type": "code",
   "execution_count": 3,
   "metadata": {
    "id": "a4KnkVtW_jWi"
   },
   "outputs": [
    {
     "name": "stdout",
     "output_type": "stream",
     "text": [
      "Hello\n",
      "Hello 1 3 [1, 3] (2+4j)\n",
      "Hello;1;3;[1, 3];(2+4j):"
     ]
    }
   ],
   "source": [
    "print('Hello')\n",
    "print('Hello',1,3,[1,3],2+4j)\n",
    "print('Hello',1,3,[1,3],2+4j, sep=';',end=':')"
   ]
  },
  {
   "cell_type": "markdown",
   "metadata": {
    "id": "5xPZCNLQ2zKO"
   },
   "source": [
    "## Basic data types"
   ]
  },
  {
   "cell_type": "markdown",
   "metadata": {
    "id": "VWilOQkE_yA8"
   },
   "source": [
    "### Numerical types: `int`, `float`, `complex`."
   ]
  },
  {
   "cell_type": "code",
   "execution_count": 4,
   "metadata": {
    "id": "f_Rc7P6V_8b5"
   },
   "outputs": [
    {
     "name": "stdout",
     "output_type": "stream",
     "text": [
      "2\n"
     ]
    },
    {
     "data": {
      "text/plain": [
       "int"
      ]
     },
     "execution_count": 4,
     "metadata": {},
     "output_type": "execute_result"
    }
   ],
   "source": [
    "#int\n",
    "a = 2    \n",
    "print(a) \n",
    "type(a)  "
   ]
  },
  {
   "cell_type": "markdown",
   "metadata": {
    "id": "lFD4AIrBffbv"
   },
   "source": [
    "Exemplary methods of `int`."
   ]
  },
  {
   "cell_type": "code",
   "execution_count": 5,
   "metadata": {
    "id": "SNYidx34AHvA"
   },
   "outputs": [
    {
     "data": {
      "text/plain": [
       "2"
      ]
     },
     "execution_count": 5,
     "metadata": {},
     "output_type": "execute_result"
    }
   ],
   "source": [
    "a.bit_length()"
   ]
  },
  {
   "cell_type": "code",
   "execution_count": 6,
   "metadata": {
    "id": "udyrHlfIAKZK"
   },
   "outputs": [
    {
     "name": "stdout",
     "output_type": "stream",
     "text": [
      "2.5\n"
     ]
    },
    {
     "data": {
      "text/plain": [
       "float"
      ]
     },
     "execution_count": 6,
     "metadata": {},
     "output_type": "execute_result"
    }
   ],
   "source": [
    "# float\n",
    "b = 2.5\n",
    "print(b)\n",
    "type(b)"
   ]
  },
  {
   "cell_type": "code",
   "execution_count": 7,
   "metadata": {
    "id": "dIAyZ0ZmAOCM"
   },
   "outputs": [
    {
     "data": {
      "text/plain": [
       "False"
      ]
     },
     "execution_count": 7,
     "metadata": {},
     "output_type": "execute_result"
    }
   ],
   "source": [
    "b.is_integer()"
   ]
  },
  {
   "cell_type": "code",
   "execution_count": 8,
   "metadata": {
    "id": "ob6Ru1WuARs-"
   },
   "outputs": [
    {
     "name": "stdout",
     "output_type": "stream",
     "text": [
      "(2+4j)\n"
     ]
    },
    {
     "data": {
      "text/plain": [
       "complex"
      ]
     },
     "execution_count": 8,
     "metadata": {},
     "output_type": "execute_result"
    }
   ],
   "source": [
    "# complex number\n",
    "z = 2+4j\n",
    "print(z)\n",
    "type(z)"
   ]
  },
  {
   "cell_type": "code",
   "execution_count": 9,
   "metadata": {
    "id": "KUNPbDs-AVpB"
   },
   "outputs": [
    {
     "data": {
      "text/plain": [
       "4.0"
      ]
     },
     "execution_count": 9,
     "metadata": {},
     "output_type": "execute_result"
    }
   ],
   "source": [
    "z.imag"
   ]
  },
  {
   "cell_type": "markdown",
   "metadata": {
    "id": "l_vcZLlxh19H"
   },
   "source": [
    "### Type `str` (string of characters).\n",
    "Default coding in Python 3 is `utf8`."
   ]
  },
  {
   "cell_type": "code",
   "execution_count": 10,
   "metadata": {
    "id": "boa60bu3AkZJ"
   },
   "outputs": [
    {
     "name": "stdout",
     "output_type": "stream",
     "text": [
      "neural networks, neurl networks.\n",
      "<class 'str'>\n"
     ]
    },
    {
     "data": {
      "text/plain": [
       "str"
      ]
     },
     "execution_count": 10,
     "metadata": {},
     "output_type": "execute_result"
    }
   ],
   "source": [
    "word1 = 'neural networks,'\n",
    "word2 = \"neurl networks.\"\n",
    "print(word1, word2)\n",
    "print(type(word1))\n",
    "type(word2)"
   ]
  },
  {
   "cell_type": "markdown",
   "metadata": {
    "id": "l-OhAVorh9ow"
   },
   "source": [
    "Special characters: `\\n`, `\\t` etc."
   ]
  },
  {
   "cell_type": "code",
   "execution_count": 11,
   "metadata": {
    "id": "ESWb7yK2A2mX"
   },
   "outputs": [
    {
     "name": "stdout",
     "output_type": "stream",
     "text": [
      "neur\tal\n",
      "networks\n"
     ]
    }
   ],
   "source": [
    "print('neur\\tal\\nnetworks')"
   ]
  },
  {
   "cell_type": "code",
   "execution_count": 12,
   "metadata": {
    "id": "7sMWKYUKA2tJ"
   },
   "outputs": [
    {
     "name": "stdout",
     "output_type": "stream",
     "text": [
      "neur\\tal\\nnetworks\n",
      "neur\\tal\\nnetworks\n"
     ]
    }
   ],
   "source": [
    "print('neur\\\\tal\\\\nnetworks')\n",
    "print(r'neur\\tal\\nnetworks')"
   ]
  },
  {
   "cell_type": "markdown",
   "metadata": {
    "id": "OJCwrDffiEd9"
   },
   "source": [
    "built-in `len` function"
   ]
  },
  {
   "cell_type": "code",
   "execution_count": 14,
   "metadata": {
    "id": "wB-LYxThBD_J"
   },
   "outputs": [
    {
     "name": "stdout",
     "output_type": "stream",
     "text": [
      "neural networks,\n"
     ]
    },
    {
     "data": {
      "text/plain": [
       "16"
      ]
     },
     "execution_count": 14,
     "metadata": {},
     "output_type": "execute_result"
    }
   ],
   "source": [
    "print(word1)\n",
    "len(word1)"
   ]
  },
  {
   "cell_type": "markdown",
   "metadata": {
    "id": "aTJLCU6KiT-T"
   },
   "source": [
    "Drawing single chars using method `__getitem__` or `[]`."
   ]
  },
  {
   "cell_type": "code",
   "execution_count": 15,
   "metadata": {
    "id": "Mfbv6i25BPSu"
   },
   "outputs": [
    {
     "name": "stdout",
     "output_type": "stream",
     "text": [
      "o\n",
      "o\n"
     ]
    }
   ],
   "source": [
    "s = 'worddddddd'\n",
    "print(s.__getitem__(1))  \n",
    "print(s[1])"
   ]
  },
  {
   "cell_type": "markdown",
   "metadata": {
    "id": "ZiHzVQYYibOS"
   },
   "source": [
    "Object of class `str` is unmodifiable."
   ]
  },
  {
   "cell_type": "code",
   "execution_count": 16,
   "metadata": {
    "id": "naqMZp8xBXDu"
   },
   "outputs": [
    {
     "ename": "TypeError",
     "evalue": "'str' object does not support item assignment",
     "output_type": "error",
     "traceback": [
      "\u001b[1;31m---------------------------------------------------------------------------\u001b[0m",
      "\u001b[1;31mTypeError\u001b[0m                                 Traceback (most recent call last)",
      "Cell \u001b[1;32mIn [16], line 1\u001b[0m\n\u001b[1;32m----> 1\u001b[0m s[\u001b[39m2\u001b[39;49m] \u001b[39m=\u001b[39m \u001b[39m'\u001b[39m\u001b[39mg\u001b[39m\u001b[39m'\u001b[39m\n",
      "\u001b[1;31mTypeError\u001b[0m: 'str' object does not support item assignment"
     ]
    }
   ],
   "source": [
    "s[2] = 'g'"
   ]
  },
  {
   "cell_type": "markdown",
   "metadata": {
    "id": "QKWpMlq9iz-A"
   },
   "source": [
    "There are no more chars than `len(word) - 1`."
   ]
  },
  {
   "cell_type": "code",
   "execution_count": 17,
   "metadata": {
    "id": "BpX4MOgUBdc3"
   },
   "outputs": [
    {
     "ename": "IndexError",
     "evalue": "string index out of range",
     "output_type": "error",
     "traceback": [
      "\u001b[1;31m---------------------------------------------------------------------------\u001b[0m",
      "\u001b[1;31mIndexError\u001b[0m                                Traceback (most recent call last)",
      "Cell \u001b[1;32mIn [17], line 1\u001b[0m\n\u001b[1;32m----> 1\u001b[0m s[\u001b[39m100\u001b[39;49m]\n",
      "\u001b[1;31mIndexError\u001b[0m: string index out of range"
     ]
    }
   ],
   "source": [
    "s[100]"
   ]
  },
  {
   "cell_type": "markdown",
   "metadata": {
    "id": "D4QnaFVYi8bw"
   },
   "source": [
    "#### Slicing"
   ]
  },
  {
   "cell_type": "code",
   "execution_count": 18,
   "metadata": {
    "id": "L6mCt_LpB0U2"
   },
   "outputs": [
    {
     "name": "stdout",
     "output_type": "stream",
     "text": [
      "orddd\n",
      "odd\n",
      "d\n",
      "dd\n"
     ]
    }
   ],
   "source": [
    "print(s[1:6])\n",
    "\n",
    "print(s[1:6:2])\n",
    "\n",
    "print(s[-1])\n",
    "\n",
    "print(s[-4:-2])"
   ]
  },
  {
   "cell_type": "markdown",
   "metadata": {
    "id": "PE1roTj0jGUJ"
   },
   "source": [
    "### Type `tuple` "
   ]
  },
  {
   "cell_type": "code",
   "execution_count": 19,
   "metadata": {
    "id": "zb3TRAR9CA8Y"
   },
   "outputs": [
    {
     "name": "stdout",
     "output_type": "stream",
     "text": [
      "(1, 2, 3, 4)\n",
      "(1, 3.5, 'a', (1, 2, 3, 4))\n",
      "4\n"
     ]
    },
    {
     "data": {
      "text/plain": [
       "tuple"
      ]
     },
     "execution_count": 19,
     "metadata": {},
     "output_type": "execute_result"
    }
   ],
   "source": [
    "a = (1, 2, 3, 4)\n",
    "b = (1, 3.5, 'a', a)\n",
    "print(a)\n",
    "print(b)\n",
    "print(len(a))\n",
    "type(a)"
   ]
  },
  {
   "cell_type": "markdown",
   "metadata": {
    "id": "s_0-DGvbjdAO"
   },
   "source": [
    "Tuple unpacking:"
   ]
  },
  {
   "cell_type": "code",
   "execution_count": 20,
   "metadata": {
    "id": "_3DQ1FhSCIN-"
   },
   "outputs": [
    {
     "name": "stdout",
     "output_type": "stream",
     "text": [
      "1\n",
      "a\n",
      "abc\n",
      "(1, 'a', 'abc')\n"
     ]
    }
   ],
   "source": [
    "a,b,c = (1, 'a', 'abc')\n",
    "d = (1, 'a', 'abc')\n",
    "print(a)\n",
    "print(b)\n",
    "print(c)\n",
    "print(d)"
   ]
  },
  {
   "cell_type": "markdown",
   "metadata": {
    "id": "jn0KqUF5CQfH"
   },
   "source": [
    "Like 'str', tuple is an unmodifiable type"
   ]
  },
  {
   "cell_type": "code",
   "execution_count": 21,
   "metadata": {
    "id": "k17CspahCS4-"
   },
   "outputs": [
    {
     "name": "stdout",
     "output_type": "stream",
     "text": [
      "1\n"
     ]
    },
    {
     "ename": "TypeError",
     "evalue": "'tuple' object does not support item assignment",
     "output_type": "error",
     "traceback": [
      "\u001b[1;31m---------------------------------------------------------------------------\u001b[0m",
      "\u001b[1;31mTypeError\u001b[0m                                 Traceback (most recent call last)",
      "Cell \u001b[1;32mIn [21], line 3\u001b[0m\n\u001b[0;32m      1\u001b[0m k \u001b[39m=\u001b[39m (\u001b[39m1\u001b[39m, \u001b[39m'\u001b[39m\u001b[39ma\u001b[39m\u001b[39m'\u001b[39m)\n\u001b[0;32m      2\u001b[0m \u001b[39mprint\u001b[39m(k[\u001b[39m0\u001b[39m])\n\u001b[1;32m----> 3\u001b[0m k[\u001b[39m0\u001b[39;49m]\u001b[39m=\u001b[39m\u001b[39m'\u001b[39m\u001b[39mb\u001b[39m\u001b[39m'\u001b[39m\n",
      "\u001b[1;31mTypeError\u001b[0m: 'tuple' object does not support item assignment"
     ]
    }
   ],
   "source": [
    "k = (1, 'a')\n",
    "print(k[0])\n",
    "k[0]='b'"
   ]
  },
  {
   "cell_type": "markdown",
   "metadata": {
    "id": "bDsMZnVxCZHb"
   },
   "source": [
    "### Type `list`\n",
    "List, unlike tuple, can be modified:"
   ]
  },
  {
   "cell_type": "code",
   "execution_count": 22,
   "metadata": {
    "id": "2Qr_1zeDCS9g"
   },
   "outputs": [
    {
     "name": "stdout",
     "output_type": "stream",
     "text": [
      "[1, 2, '3', [1, 3]]\n",
      "4\n"
     ]
    },
    {
     "data": {
      "text/plain": [
       "list"
      ]
     },
     "execution_count": 22,
     "metadata": {},
     "output_type": "execute_result"
    }
   ],
   "source": [
    "l = [1, 2, '3', [1, 3]]\n",
    "print(l)\n",
    "print(len(l))\n",
    "type(l)"
   ]
  },
  {
   "cell_type": "code",
   "execution_count": 23,
   "metadata": {
    "id": "zTypDFL9CTCM"
   },
   "outputs": [
    {
     "name": "stdout",
     "output_type": "stream",
     "text": [
      "[1, 2, '3', [1, 3]]\n",
      "1\n",
      "['new_0', 2, '3', [1, 3]]\n"
     ]
    }
   ],
   "source": [
    "print(l)\n",
    "print(l[0])\n",
    "l[0] = 'new_0'\n",
    "print(l)"
   ]
  },
  {
   "cell_type": "markdown",
   "metadata": {
    "id": "hnCwTM9jCm7g"
   },
   "source": [
    "__Attention__: Lists are copied by reference!."
   ]
  },
  {
   "cell_type": "code",
   "execution_count": 24,
   "metadata": {
    "id": "nwrFGG_iCTAL"
   },
   "outputs": [
    {
     "name": "stdout",
     "output_type": "stream",
     "text": [
      "[1, 2, 4] [1, 2, 4]\n"
     ]
    }
   ],
   "source": [
    "l = [1,2,4]\n",
    "p = l\n",
    "print(p,l)"
   ]
  },
  {
   "cell_type": "code",
   "execution_count": 25,
   "metadata": {
    "id": "FFmh5GImCS71"
   },
   "outputs": [
    {
     "name": "stdout",
     "output_type": "stream",
     "text": [
      "[1, -5, 4] [1, -5, 4]\n"
     ]
    }
   ],
   "source": [
    "p[1] = -5\n",
    "print(p,l)"
   ]
  },
  {
   "cell_type": "markdown",
   "metadata": {
    "id": "DTVoH__fCwtK"
   },
   "source": [
    "To copy the entire object, use the built-in function `copy()`."
   ]
  },
  {
   "cell_type": "code",
   "execution_count": 26,
   "metadata": {
    "id": "yHbrbma7CvWY"
   },
   "outputs": [
    {
     "name": "stdout",
     "output_type": "stream",
     "text": [
      "[1, 2, 4] [1, 2, 4]\n",
      "[1, 100, 4] [1, 2, 4]\n"
     ]
    }
   ],
   "source": [
    "l = [1,2,4]\n",
    "p = l.copy()\n",
    "print(p,l)\n",
    "p[1]= 100\n",
    "print(p,l)"
   ]
  },
  {
   "cell_type": "markdown",
   "metadata": {
    "id": "cZrTqu_LC5p_"
   },
   "source": [
    "Instead of `copy` the `[:]` symbol can be used."
   ]
  },
  {
   "cell_type": "code",
   "execution_count": 27,
   "metadata": {
    "id": "vxIfoRwiCvbA"
   },
   "outputs": [
    {
     "name": "stdout",
     "output_type": "stream",
     "text": [
      "[1, 2, 3] [1, 2, 3]\n",
      "[-100, 2, 3] [1, 2, 3]\n"
     ]
    }
   ],
   "source": [
    "l = [1,2,3]\n",
    "p[:] = l[:]\n",
    "print(p,l)\n",
    "p[0] = -100\n",
    "print(p,l)"
   ]
  },
  {
   "cell_type": "markdown",
   "metadata": {
    "id": "2rom-XE7DNTw"
   },
   "source": [
    "Adding new elements to the list."
   ]
  },
  {
   "cell_type": "code",
   "execution_count": 28,
   "metadata": {
    "id": "xlh_MY4OCvir"
   },
   "outputs": [
    {
     "data": {
      "text/plain": [
       "[1, 2, 3, 'nowy_k']"
      ]
     },
     "execution_count": 28,
     "metadata": {},
     "output_type": "execute_result"
    }
   ],
   "source": [
    "p = [1,2,3]\n",
    "# adding at the beginning\n",
    "p.append('nowy_k')\n",
    "p"
   ]
  },
  {
   "cell_type": "code",
   "execution_count": 29,
   "metadata": {
    "id": "6fuj6TkVCve9"
   },
   "outputs": [
    {
     "data": {
      "text/plain": [
       "[1, 'nowy_i', 2, 3, 'nowy_k']"
      ]
     },
     "execution_count": 29,
     "metadata": {},
     "output_type": "execute_result"
    }
   ],
   "source": [
    "# adding in particular index\n",
    "p.insert(1,'nowy_i') \n",
    "p"
   ]
  },
  {
   "cell_type": "code",
   "execution_count": 30,
   "metadata": {
    "id": "uvBJeVPVCvZd"
   },
   "outputs": [
    {
     "data": {
      "text/plain": [
       "[1, 'nowy_i', 2, 3, 'nowy_k', 10, 32]"
      ]
     },
     "execution_count": 30,
     "metadata": {},
     "output_type": "execute_result"
    }
   ],
   "source": [
    "# adding more than one element\n",
    "p.extend([10,32])\n",
    "p"
   ]
  },
  {
   "cell_type": "markdown",
   "metadata": {
    "id": "xImud91SDXy5"
   },
   "source": [
    "### Type `set`"
   ]
  },
  {
   "cell_type": "code",
   "execution_count": 31,
   "metadata": {
    "id": "14YgPXYYDWuM"
   },
   "outputs": [
    {
     "data": {
      "text/plain": [
       "set"
      ]
     },
     "execution_count": 31,
     "metadata": {},
     "output_type": "execute_result"
    }
   ],
   "source": [
    "z = {1,2,3}\n",
    "type(z)"
   ]
  },
  {
   "cell_type": "markdown",
   "metadata": {
    "id": "CMT5t9NWDf2I"
   },
   "source": [
    "Making a set from a list (unique values)."
   ]
  },
  {
   "cell_type": "code",
   "execution_count": 32,
   "metadata": {
    "id": "CNSB1dLADWxn"
   },
   "outputs": [
    {
     "name": "stdout",
     "output_type": "stream",
     "text": [
      "[1, 2, 3, 1, 3, 5, 1]\n"
     ]
    },
    {
     "data": {
      "text/plain": [
       "{1, 2, 3, 5}"
      ]
     },
     "execution_count": 32,
     "metadata": {},
     "output_type": "execute_result"
    }
   ],
   "source": [
    "p = [1,2,3,1,3,5,1]\n",
    "print(p)\n",
    "sp = set(p)\n",
    "sp"
   ]
  },
  {
   "cell_type": "markdown",
   "metadata": {
    "id": "QKxbhRDlDma9"
   },
   "source": [
    "### Type `dic` (dictionary, {key:value})."
   ]
  },
  {
   "cell_type": "code",
   "execution_count": 33,
   "metadata": {
    "id": "TWK5iPz9De9G"
   },
   "outputs": [
    {
     "name": "stdout",
     "output_type": "stream",
     "text": [
      "{'No': 1234, 'Name': 'Jack', 'Surename': 'Sparrow'}\n"
     ]
    },
    {
     "data": {
      "text/plain": [
       "dict"
      ]
     },
     "execution_count": 33,
     "metadata": {},
     "output_type": "execute_result"
    }
   ],
   "source": [
    "d = {'No': 1234, 'Name': 'Jack', 'Surename': 'Sparrow',}\n",
    "print(d)\n",
    "type(d)"
   ]
  },
  {
   "cell_type": "code",
   "execution_count": 34,
   "metadata": {
    "id": "BqfJsgQ_DfCG"
   },
   "outputs": [
    {
     "name": "stdout",
     "output_type": "stream",
     "text": [
      "1234\n",
      "Jack\n",
      "Sparrow\n"
     ]
    }
   ],
   "source": [
    "# use 'keys' to refer to dic elements\n",
    "print(d['No'])\n",
    "print(d['Name'])\n",
    "print(d['Surename'])"
   ]
  },
  {
   "cell_type": "code",
   "execution_count": 35,
   "metadata": {
    "id": "D9aTKifmDfE9"
   },
   "outputs": [
    {
     "data": {
      "text/plain": [
       "dict_keys(['No', 'Name', 'Surename'])"
      ]
     },
     "execution_count": 35,
     "metadata": {},
     "output_type": "execute_result"
    }
   ],
   "source": [
    "# keys\n",
    "d.keys()"
   ]
  },
  {
   "cell_type": "code",
   "execution_count": 36,
   "metadata": {
    "id": "0wEUdKz3DfH4"
   },
   "outputs": [
    {
     "data": {
      "text/plain": [
       "{'No': 1234, 'Name': 'Jack', 'Surename': 'Sparrow', 'Mark': 2.0}"
      ]
     },
     "execution_count": 36,
     "metadata": {},
     "output_type": "execute_result"
    }
   ],
   "source": [
    "# adding new element to dic\n",
    "d['Mark'] = 2.0\n",
    "d"
   ]
  },
  {
   "cell_type": "markdown",
   "metadata": {
    "id": "hgZDDTSeD48V"
   },
   "source": [
    "### Type `bool` (true, false)."
   ]
  },
  {
   "cell_type": "code",
   "execution_count": 37,
   "metadata": {
    "id": "hfbJP4U0De__"
   },
   "outputs": [
    {
     "data": {
      "text/plain": [
       "bool"
      ]
     },
     "execution_count": 37,
     "metadata": {},
     "output_type": "execute_result"
    }
   ],
   "source": [
    "truth = True\n",
    "fals = False\n",
    "type(truth)"
   ]
  },
  {
   "cell_type": "markdown",
   "metadata": {
    "id": "mwwEMQ6bEFB3"
   },
   "source": [
    "## Arithmetic operators (`+, -, *, /, //, **, %`)"
   ]
  },
  {
   "cell_type": "code",
   "execution_count": 38,
   "metadata": {
    "id": "bNd1ueh0D3q9"
   },
   "outputs": [
    {
     "name": "stdout",
     "output_type": "stream",
     "text": [
      "7\n",
      "-3\n",
      "10\n",
      "0.4\n",
      "0\n",
      "32\n",
      "2\n"
     ]
    }
   ],
   "source": [
    "a = 2\n",
    "b = 5\n",
    "print(a+b)\n",
    "print(a-b)\n",
    "print(a*b)\n",
    "print(a/b) #float result\n",
    "print(a//b) # int result\n",
    "print(a**b) # power\n",
    "print(a%b) # modulo"
   ]
  },
  {
   "cell_type": "markdown",
   "metadata": {
    "id": "XDBnY_yVERg_"
   },
   "source": [
    "It is not possible to add variables of different types "
   ]
  },
  {
   "cell_type": "code",
   "execution_count": 39,
   "metadata": {
    "id": "RQ1XK31iD35t"
   },
   "outputs": [
    {
     "ename": "TypeError",
     "evalue": "unsupported operand type(s) for +: 'float' and 'str'",
     "output_type": "error",
     "traceback": [
      "\u001b[1;31m---------------------------------------------------------------------------\u001b[0m",
      "\u001b[1;31mTypeError\u001b[0m                                 Traceback (most recent call last)",
      "Cell \u001b[1;32mIn [39], line 1\u001b[0m\n\u001b[1;32m----> 1\u001b[0m \u001b[39m2.5\u001b[39;49m \u001b[39m+\u001b[39;49m \u001b[39m'\u001b[39;49m\u001b[39ma\u001b[39;49m\u001b[39m'\u001b[39;49m\n",
      "\u001b[1;31mTypeError\u001b[0m: unsupported operand type(s) for +: 'float' and 'str'"
     ]
    }
   ],
   "source": [
    "2.5 + 'a'"
   ]
  },
  {
   "cell_type": "markdown",
   "metadata": {
    "id": "iAJfsASVEamD"
   },
   "source": [
    "Unless we try to add a complex number to a float:"
   ]
  },
  {
   "cell_type": "code",
   "execution_count": 40,
   "metadata": {
    "id": "YUW94PY4D333"
   },
   "outputs": [
    {
     "name": "stdout",
     "output_type": "stream",
     "text": [
      "(4.5-3j)\n"
     ]
    },
    {
     "data": {
      "text/plain": [
       "complex"
      ]
     },
     "execution_count": 40,
     "metadata": {},
     "output_type": "execute_result"
    }
   ],
   "source": [
    "a = 2.5 + (2-3j)\n",
    "print(a)\n",
    "type(a)"
   ]
  },
  {
   "cell_type": "markdown",
   "metadata": {
    "id": "9VboLNcREnTo"
   },
   "source": [
    "## Package `math`.\n",
    "Few built-in functions (outside the 'math'): `abs`, `min`, `max`, `sum`, `pow`."
   ]
  },
  {
   "cell_type": "code",
   "execution_count": 41,
   "metadata": {
    "id": "Xn4sZdJUD300"
   },
   "outputs": [
    {
     "name": "stdout",
     "output_type": "stream",
     "text": [
      "-4\n",
      "5.5\n"
     ]
    },
    {
     "data": {
      "text/plain": [
       "4"
      ]
     },
     "execution_count": 41,
     "metadata": {},
     "output_type": "execute_result"
    }
   ],
   "source": [
    "print(min(1,2,-4,2))\n",
    "print(max(2, 1.4, 3, 5.5))\n",
    "abs(-4)"
   ]
  },
  {
   "cell_type": "code",
   "execution_count": 42,
   "metadata": {
    "id": "Afvi_4ZWD3w6"
   },
   "outputs": [],
   "source": [
    "# importing a package\n",
    "import math\n",
    "# we can import only chosen functions\n",
    "from math import sin, cos"
   ]
  },
  {
   "cell_type": "code",
   "execution_count": 43,
   "metadata": {
    "id": "3r9YGyXYD3uu"
   },
   "outputs": [
    {
     "data": {
      "text/plain": [
       "0.0"
      ]
     },
     "execution_count": 43,
     "metadata": {},
     "output_type": "execute_result"
    }
   ],
   "source": [
    "math.log(1)"
   ]
  },
  {
   "cell_type": "code",
   "execution_count": 44,
   "metadata": {
    "id": "eNyLT7_SDW83"
   },
   "outputs": [
    {
     "data": {
      "text/plain": [
       "1.0"
      ]
     },
     "execution_count": 44,
     "metadata": {},
     "output_type": "execute_result"
    }
   ],
   "source": [
    "sin(math.radians(90))"
   ]
  },
  {
   "cell_type": "markdown",
   "metadata": {
    "id": "5hza3UgVFBqn"
   },
   "source": [
    "## Excercise 1:\n",
    "Check the arithmetic operators for objects of type `list`."
   ]
  },
  {
   "cell_type": "code",
   "execution_count": 45,
   "metadata": {
    "id": "sceegWUfFGR-"
   },
   "outputs": [
    {
     "name": "stdout",
     "output_type": "stream",
     "text": [
      "[1, 2, 4, 6, 1, 4, 6, 2]\n",
      "[1, 2, 4, 6, 1, 2, 4, 6, 1, 2, 4, 6]\n"
     ]
    }
   ],
   "source": [
    "a = [1, 2, 4, 6]\n",
    "b = [1, 4, 6, 2]\n",
    "\n",
    "print(a+b)\n",
    "print(a*3)"
   ]
  },
  {
   "cell_type": "markdown",
   "metadata": {
    "id": "yjJAZPBoFVWS"
   },
   "source": [
    "## Excercise 2:\n",
    "Do the same for type `str`."
   ]
  },
  {
   "cell_type": "code",
   "execution_count": 64,
   "metadata": {
    "id": "OWHk7imgFVii"
   },
   "outputs": [
    {
     "name": "stdout",
     "output_type": "stream",
     "text": [
      "HiDzien dobry\n",
      "Dzien dobryDzien dobryDzien dobry\n"
     ]
    }
   ],
   "source": [
    "#YOUR ANSWER HERE\n",
    "\n",
    "txt1 = 'Hi'\n",
    "txt2 = 'Dzien dobry'\n",
    "\n",
    "print(txt1+txt2)\n",
    "print(txt2*3)"
   ]
  },
  {
   "cell_type": "markdown",
   "metadata": {
    "id": "ri36enAAFgjs"
   },
   "source": [
    "## Logical operators\n",
    "comparison: `==`, `>`, `>=`, `<`, `<=`, `!=`.\n",
    "\n",
    "logical operators: `and`, `or`.\n",
    "\n",
    "negation: `not`."
   ]
  },
  {
   "cell_type": "code",
   "execution_count": 50,
   "metadata": {
    "id": "0ndjV3YVFAqi"
   },
   "outputs": [
    {
     "name": "stdout",
     "output_type": "stream",
     "text": [
      "False\n",
      "True\n",
      "True\n",
      "False\n",
      "False\n",
      "True\n"
     ]
    }
   ],
   "source": [
    "print(2==3)\n",
    "print(2!=3)\n",
    "print(2<3)\n",
    "a = 4.5\n",
    "b = 4\n",
    "print(not 4<=5)\n",
    "print(a>b and a<b)\n",
    "print(a>b and a<b or 3>2)  # (a>b and a<b) or 3>2"
   ]
  },
  {
   "cell_type": "markdown",
   "metadata": {
    "id": "7KQS-nHhFpBc"
   },
   "source": [
    "We can compare any comparable objects, e.g. lists."
   ]
  },
  {
   "cell_type": "code",
   "execution_count": 51,
   "metadata": {
    "id": "EMZi9-wkFAx8"
   },
   "outputs": [
    {
     "name": "stdout",
     "output_type": "stream",
     "text": [
      "False\n",
      "True\n",
      "True\n",
      "False\n"
     ]
    }
   ],
   "source": [
    "print([1,3,4]==[3,6,7])\n",
    "print([1,3,4]==[1,3,4])\n",
    "print([1,3,4]<[3,6,7])\n",
    "print([1,3,4]<[1,1,7])"
   ]
  },
  {
   "cell_type": "markdown",
   "metadata": {
    "id": "7bT1TtQ2Fyw3"
   },
   "source": [
    "### Operatorors `in`, `not in` and `is`, `is not`."
   ]
  },
  {
   "cell_type": "code",
   "execution_count": 52,
   "metadata": {
    "id": "PC0djHYtFA1z"
   },
   "outputs": [
    {
     "name": "stdout",
     "output_type": "stream",
     "text": [
      "True\n",
      "True\n",
      "False\n"
     ]
    }
   ],
   "source": [
    "print(1 in [1,2,3])\n",
    "print('a' in 'neural')\n",
    "print('a' not in 'neural')"
   ]
  },
  {
   "cell_type": "code",
   "execution_count": 53,
   "metadata": {
    "id": "pXLXuGMCFBA2"
   },
   "outputs": [
    {
     "name": "stdout",
     "output_type": "stream",
     "text": [
      "False\n",
      "True\n",
      "True\n",
      "True\n"
     ]
    }
   ],
   "source": [
    "a = 2\n",
    "b = 3\n",
    "c = 2\n",
    "print(a is b)\n",
    "print(a is c)\n",
    "print(b is not c)\n",
    "d = None  # None means 'nothing' - an empty object\n",
    "print(d is None)"
   ]
  },
  {
   "cell_type": "markdown",
   "metadata": {
    "id": "_gXBuKWAF-iw"
   },
   "source": [
    "## Instructions"
   ]
  },
  {
   "cell_type": "markdown",
   "metadata": {
    "id": "4qSLSxIWGCQt"
   },
   "source": [
    "### Conditionals: `if`, `if else`, `if elif else`."
   ]
  },
  {
   "cell_type": "code",
   "execution_count": 54,
   "metadata": {
    "id": "ndFuJ57jFA_H"
   },
   "outputs": [
    {
     "name": "stdout",
     "output_type": "stream",
     "text": [
      "5\n"
     ]
    }
   ],
   "source": [
    "a=2\n",
    "b=3\n",
    "if a<b:\n",
    "    print(a+b)"
   ]
  },
  {
   "cell_type": "code",
   "execution_count": 55,
   "metadata": {
    "id": "Akmd3xuwFA63"
   },
   "outputs": [
    {
     "name": "stdout",
     "output_type": "stream",
     "text": [
      "1\n"
     ]
    }
   ],
   "source": [
    "a=4\n",
    "b=3\n",
    "if a<b:\n",
    "    print(a+b) \n",
    "else:\n",
    "    print(a-b)"
   ]
  },
  {
   "cell_type": "code",
   "execution_count": 56,
   "metadata": {
    "id": "Ob3JUxefFAwH"
   },
   "outputs": [
    {
     "name": "stdout",
     "output_type": "stream",
     "text": [
      "80\n"
     ]
    }
   ],
   "source": [
    "a=10\n",
    "b=8\n",
    "if a<b:\n",
    "    print(a+b) \n",
    "elif a<2*b:\n",
    "    print(a*b)\n",
    "else:\n",
    "    print(a-b)"
   ]
  },
  {
   "cell_type": "code",
   "execution_count": 57,
   "metadata": {
    "id": "vtqdDlBpFAuf"
   },
   "outputs": [
    {
     "name": "stdout",
     "output_type": "stream",
     "text": [
      "10 10 10 10 10 10 "
     ]
    }
   ],
   "source": [
    "#any expression returning 'true' or 'false' can be used as a condition:\n",
    "a = 10\n",
    "if a < 20 and a >5:\n",
    "    print(a,a,a, end=' ')\n",
    "    \n",
    "# or simpler:\n",
    "if 5 < a < 20:\n",
    "    print(a,a,a, end=' ')"
   ]
  },
  {
   "cell_type": "markdown",
   "metadata": {
    "id": "8yRvNoosGURJ"
   },
   "source": [
    "### `while` loop"
   ]
  },
  {
   "cell_type": "code",
   "execution_count": 58,
   "metadata": {
    "id": "pX3lNnABFAoA"
   },
   "outputs": [
    {
     "name": "stdout",
     "output_type": "stream",
     "text": [
      "0 1 2 3 4 5 6 7 8 9 "
     ]
    }
   ],
   "source": [
    "i=0\n",
    "while i<10:\n",
    "    print(i, end=' ') \n",
    "    i=i+1"
   ]
  },
  {
   "cell_type": "markdown",
   "metadata": {
    "id": "ZCOmVQgFGc5h"
   },
   "source": [
    "### `for` loop"
   ]
  },
  {
   "cell_type": "code",
   "execution_count": 59,
   "metadata": {
    "id": "e-AlWduYGPeB"
   },
   "outputs": [
    {
     "name": "stdout",
     "output_type": "stream",
     "text": [
      "1 2 6 7 "
     ]
    }
   ],
   "source": [
    "for i in [1,2,6,7]:\n",
    "    print(i, end=' ')"
   ]
  },
  {
   "cell_type": "markdown",
   "metadata": {
    "id": "53HCcRZ0Gl-u"
   },
   "source": [
    "It is possible to iter through any \"iterable\" object, i.e. containing method `__iter__`, e.g. string, dict, etc."
   ]
  },
  {
   "cell_type": "code",
   "execution_count": 60,
   "metadata": {
    "id": "vk9XCsR7GPbi"
   },
   "outputs": [
    {
     "name": "stdout",
     "output_type": "stream",
     "text": [
      "n e u r a l n e t w o r k s "
     ]
    }
   ],
   "source": [
    "for letter in 'neuralnetworks':\n",
    "    print(letter, end=' ')"
   ]
  },
  {
   "cell_type": "code",
   "execution_count": 68,
   "metadata": {
    "id": "p-Svfqo1GPY8"
   },
   "outputs": [
    {
     "name": "stdout",
     "output_type": "stream",
     "text": [
      "name surename "
     ]
    }
   ],
   "source": [
    "dic = {'name':'Jack', 'surename': 'Sparrow'}\n",
    "for key in dic:\n",
    "    print(key, end=' ')"
   ]
  },
  {
   "cell_type": "markdown",
   "metadata": {
    "id": "92aFJL6zHH18"
   },
   "source": [
    "### `range`, `enumerate`"
   ]
  },
  {
   "cell_type": "markdown",
   "metadata": {
    "id": "0u0Xze79GtQa"
   },
   "source": [
    "Actually 'range' returns a generator (for more abut generators see: https://docs.python.org/3/glossary.html#term-generator)."
   ]
  },
  {
   "cell_type": "code",
   "execution_count": 61,
   "metadata": {
    "id": "liKF-xJrGPWA"
   },
   "outputs": [
    {
     "data": {
      "text/plain": [
       "range(0, 100)"
      ]
     },
     "execution_count": 61,
     "metadata": {},
     "output_type": "execute_result"
    }
   ],
   "source": [
    "range(100) #numbers from 0 to 99"
   ]
  },
  {
   "cell_type": "code",
   "execution_count": 62,
   "metadata": {
    "id": "DaQ-6NHeGx94"
   },
   "outputs": [
    {
     "data": {
      "text/plain": [
       "range(5, 80)"
      ]
     },
     "execution_count": 62,
     "metadata": {},
     "output_type": "execute_result"
    }
   ],
   "source": [
    "range(5,80) #numbers from 5 to 79"
   ]
  },
  {
   "cell_type": "code",
   "execution_count": 63,
   "metadata": {
    "id": "ybBKx_vlGyBZ"
   },
   "outputs": [
    {
     "data": {
      "text/plain": [
       "range(5, 80, 2)"
      ]
     },
     "execution_count": 63,
     "metadata": {},
     "output_type": "execute_result"
    }
   ],
   "source": [
    "range(5,80,2) #numbers from 5 to 79 with step=2"
   ]
  },
  {
   "cell_type": "code",
   "execution_count": 65,
   "metadata": {
    "id": "zxDXy7n2Gx7r"
   },
   "outputs": [
    {
     "name": "stdout",
     "output_type": "stream",
     "text": [
      "5 8 11 14 17 20 23 26 29 32 35 38 41 44 47 50 53 56 59 62 65 68 71 74 77 80 83 86 89 92 95 98 "
     ]
    }
   ],
   "source": [
    "for el in range(5,99,3):\n",
    "    print(el, end=' ')"
   ]
  },
  {
   "cell_type": "markdown",
   "metadata": {
    "id": "U7SWXlWfHFUI"
   },
   "source": [
    " `enumerate` add indexes to objects."
   ]
  },
  {
   "cell_type": "code",
   "execution_count": 66,
   "metadata": {
    "id": "1CmQ35V0Gx5F"
   },
   "outputs": [
    {
     "data": {
      "text/plain": [
       "<enumerate at 0x26218b83640>"
      ]
     },
     "execution_count": 66,
     "metadata": {},
     "output_type": "execute_result"
    }
   ],
   "source": [
    "enumerate(['a','b','c'])"
   ]
  },
  {
   "cell_type": "code",
   "execution_count": 67,
   "metadata": {
    "id": "PjKQTjcAHPch"
   },
   "outputs": [
    {
     "name": "stdout",
     "output_type": "stream",
     "text": [
      "0 a\n",
      "1 b\n",
      "2 c\n"
     ]
    }
   ],
   "source": [
    "abc = ['a','b','c']\n",
    "for index, element in enumerate(abc):\n",
    "    print(index, element)"
   ]
  },
  {
   "cell_type": "code",
   "execution_count": 69,
   "metadata": {
    "id": "1OsDVEESHPnC"
   },
   "outputs": [
    {
     "name": "stdout",
     "output_type": "stream",
     "text": [
      "1 1\n",
      "2 1\n",
      "3 1\n"
     ]
    }
   ],
   "source": [
    "# it is also possible to do something like this:\n",
    "abc = [[1,1],[2,1],[3,1]]\n",
    "for x, y in abc:\n",
    "    print(x,y)"
   ]
  },
  {
   "cell_type": "markdown",
   "metadata": {
    "id": "GXRlaladHdO_"
   },
   "source": [
    "### `break`, `continue`"
   ]
  },
  {
   "cell_type": "code",
   "execution_count": 70,
   "metadata": {
    "id": "F9eILcYHHPq4"
   },
   "outputs": [
    {
     "name": "stdout",
     "output_type": "stream",
     "text": [
      "0 1 2 3 4 5 6 7 8 9 10 "
     ]
    }
   ],
   "source": [
    "i=0\n",
    "while True:\n",
    "    print(i, end=' ')\n",
    "    i+=1\n",
    "    if i>10:\n",
    "        break"
   ]
  },
  {
   "cell_type": "code",
   "execution_count": 71,
   "metadata": {
    "id": "BUtm1t24HPkj"
   },
   "outputs": [
    {
     "name": "stdout",
     "output_type": "stream",
     "text": [
      "1 2 4 5 7 8 10 "
     ]
    }
   ],
   "source": [
    "i=0\n",
    "while True:\n",
    "    if i % 3 == 0:\n",
    "        i+=1\n",
    "        continue\n",
    "    print(i, end=' ')\n",
    "    i+=1\n",
    "    if i>10:\n",
    "        break"
   ]
  },
  {
   "cell_type": "code",
   "execution_count": 72,
   "metadata": {
    "id": "1hdyyBIqHPi4"
   },
   "outputs": [
    {
     "name": "stdout",
     "output_type": "stream",
     "text": [
      "0 1 4 9 16 25 36 49 64 81 100 121 144 169 196 225 256 289 324 361 400 441 484 529 576 625 676 729 784 841 900 961 1024 1089 1156 1225 1296 1369 1444 1521 1600 1681 1764 1849 1936 2025 2116 2209 2304 2401 2500 2601 2704 2809 2916 3025 3136 3249 3364 3481 3600 3721 3844 3969 4096 "
     ]
    }
   ],
   "source": [
    "for i in range(100):\n",
    "    print(i*i, end=' ')\n",
    "    if i*i>4000:\n",
    "        break"
   ]
  },
  {
   "cell_type": "code",
   "execution_count": 73,
   "metadata": {
    "id": "u_XloZBHHPgS"
   },
   "outputs": [
    {
     "name": "stdout",
     "output_type": "stream",
     "text": [
      "0 1 4 9 16 25 625 676 729 784 841 900 961 1024 1089 1156 1225 1296 1369 1444 1521 1600 1681 1764 1849 1936 2025 2116 2209 2304 2401 2500 2601 2704 2809 2916 3025 3136 3249 3364 3481 3600 3721 3844 3969 4096 "
     ]
    }
   ],
   "source": [
    "for i in range(100):\n",
    "    if 5 < i < 25:\n",
    "        continue\n",
    "    print(i*i, end=' ')\n",
    "    if i*i>4000:\n",
    "        break"
   ]
  },
  {
   "cell_type": "markdown",
   "metadata": {
    "id": "AGb5nobZHyDg"
   },
   "source": [
    "## Functions"
   ]
  },
  {
   "cell_type": "code",
   "execution_count": 74,
   "metadata": {
    "id": "cBKwxQp1HvFW"
   },
   "outputs": [],
   "source": [
    "def przywitanie():\n",
    "    print('Hello')"
   ]
  },
  {
   "cell_type": "code",
   "execution_count": 75,
   "metadata": {
    "id": "9RMp-CB8HvXr"
   },
   "outputs": [
    {
     "name": "stdout",
     "output_type": "stream",
     "text": [
      "Hello\n"
     ]
    }
   ],
   "source": [
    "przywitanie()"
   ]
  },
  {
   "cell_type": "markdown",
   "metadata": {
    "id": "qmxEqbQpH8ef"
   },
   "source": [
    "Use `return` to return values."
   ]
  },
  {
   "cell_type": "code",
   "execution_count": 76,
   "metadata": {
    "id": "O7cmMSUOHvWU"
   },
   "outputs": [
    {
     "name": "stdout",
     "output_type": "stream",
     "text": [
      "2\n"
     ]
    }
   ],
   "source": [
    "def funkcja():\n",
    "    return 2\n",
    "\n",
    "a = funkcja()\n",
    "print(a)"
   ]
  },
  {
   "cell_type": "code",
   "execution_count": 77,
   "metadata": {
    "id": "d9IPuE6oHvUy"
   },
   "outputs": [
    {
     "name": "stdout",
     "output_type": "stream",
     "text": [
      "(1, 2, 3, 4)\n",
      "1 2 3 4\n"
     ]
    }
   ],
   "source": [
    "def funkcja2():\n",
    "    return 1,2,3,4\n",
    "\n",
    "a=funkcja2()\n",
    "print(a)\n",
    "\n",
    "x,y,z,t = funkcja2()\n",
    "print(x,y,z,t)"
   ]
  },
  {
   "cell_type": "markdown",
   "metadata": {
    "id": "Tq3msrpkKOPh"
   },
   "source": [
    "### Function arguments"
   ]
  },
  {
   "cell_type": "code",
   "execution_count": 78,
   "metadata": {
    "id": "WppZ83pwHvQW"
   },
   "outputs": [
    {
     "data": {
      "text/plain": [
       "12.767145334803704"
      ]
     },
     "execution_count": 78,
     "metadata": {},
     "output_type": "execute_result"
    }
   ],
   "source": [
    "#Euclidean norm\n",
    "def norm(wektor):\n",
    "    suma = 0\n",
    "    for x in wektor:\n",
    "        suma+=x**2\n",
    "    norma = suma**(1/2.0)\n",
    "    return norma\n",
    "\n",
    "norm([1,2,3, 6, 8, 7])"
   ]
  },
  {
   "cell_type": "code",
   "execution_count": 79,
   "metadata": {
    "id": "cbTyxyr0HvLY"
   },
   "outputs": [
    {
     "data": {
      "text/plain": [
       "3.7416573867739413"
      ]
     },
     "execution_count": 79,
     "metadata": {},
     "output_type": "execute_result"
    }
   ],
   "source": [
    "def pnorm(wektor, p):\n",
    "    suma = 0\n",
    "    for x in wektor:\n",
    "        suma+=x**p\n",
    "    norma = suma**(1.0/p)\n",
    "    return norma\n",
    "\n",
    "pnorm([1,2,3], 2)"
   ]
  },
  {
   "cell_type": "markdown",
   "metadata": {
    "id": "-5kSuw6fIVAV"
   },
   "source": [
    "Argumenty funkcji zdefiniowane jak powyżej to argumety wymaganlne i przy wywoływaniu trzeba je podać i dokładnie tyle ile trzeba."
   ]
  },
  {
   "cell_type": "code",
   "execution_count": 81,
   "metadata": {
    "id": "uYgL6smCIUcK"
   },
   "outputs": [
    {
     "ename": "TypeError",
     "evalue": "pnorm() missing 1 required positional argument: 'p'",
     "output_type": "error",
     "traceback": [
      "\u001b[1;31m---------------------------------------------------------------------------\u001b[0m",
      "\u001b[1;31mTypeError\u001b[0m                                 Traceback (most recent call last)",
      "Cell \u001b[1;32mIn [81], line 2\u001b[0m\n\u001b[0;32m      1\u001b[0m \u001b[39m# to few arguments\u001b[39;00m\n\u001b[1;32m----> 2\u001b[0m pnorm([\u001b[39m1\u001b[39;49m,\u001b[39m2\u001b[39;49m,\u001b[39m3\u001b[39;49m])\n",
      "\u001b[1;31mTypeError\u001b[0m: pnorm() missing 1 required positional argument: 'p'"
     ]
    }
   ],
   "source": [
    "# to few arguments\n",
    "pnorm([1,2,3]) "
   ]
  },
  {
   "cell_type": "code",
   "execution_count": 82,
   "metadata": {
    "id": "-5tCpCaOIUZL"
   },
   "outputs": [
    {
     "ename": "TypeError",
     "evalue": "pnorm() takes 2 positional arguments but 3 were given",
     "output_type": "error",
     "traceback": [
      "\u001b[1;31m---------------------------------------------------------------------------\u001b[0m",
      "\u001b[1;31mTypeError\u001b[0m                                 Traceback (most recent call last)",
      "Cell \u001b[1;32mIn [82], line 2\u001b[0m\n\u001b[0;32m      1\u001b[0m \u001b[39m# to many arguments\u001b[39;00m\n\u001b[1;32m----> 2\u001b[0m pnorm([\u001b[39m1\u001b[39;49m,\u001b[39m2\u001b[39;49m,\u001b[39m3\u001b[39;49m],\u001b[39m3\u001b[39;49m,\u001b[39m4\u001b[39;49m)\n",
      "\u001b[1;31mTypeError\u001b[0m: pnorm() takes 2 positional arguments but 3 were given"
     ]
    }
   ],
   "source": [
    "# to many arguments\n",
    "pnorm([1,2,3],3,4)"
   ]
  },
  {
   "cell_type": "markdown",
   "metadata": {
    "id": "U1RaGYUJKTou"
   },
   "source": [
    "### Default arguments"
   ]
  },
  {
   "cell_type": "code",
   "execution_count": 83,
   "metadata": {
    "id": "umuL4hNsIUW0"
   },
   "outputs": [
    {
     "name": "stdout",
     "output_type": "stream",
     "text": [
      "2-norm of vector [1, 2, 3] is 3.7416573867739413\n",
      "3.7416573867739413\n",
      "3-norm of vector [1, 2, 3] is 3.3019272488946263\n",
      "3.3019272488946263\n",
      "3.3019272488946263\n",
      "3.7416573867739413\n",
      "3.3019272488946263\n"
     ]
    }
   ],
   "source": [
    "def pnorm(wektor, p=2, pp=True):\n",
    "    suma = 0\n",
    "    for x in wektor:\n",
    "        suma+=x**p\n",
    "    norma = suma**(1.0/p)\n",
    "    if pp:\n",
    "        res = '{0}-norm of vector {1} is {2}'.format(p, wektor, norma)\n",
    "        print(res)\n",
    "    return norma\n",
    "\n",
    "print(pnorm([1,2,3]))\n",
    "print(pnorm([1,2,3],3))\n",
    "print(pnorm([1,2,3],3,False))\n",
    "print(pnorm([1,2,3],pp=False))\n",
    "print(pnorm([1,2,3],p=3,pp=False))"
   ]
  },
  {
   "cell_type": "markdown",
   "metadata": {
    "id": "thoiCvx6KX_L"
   },
   "source": [
    "### Arguments `*args, **kargs`"
   ]
  },
  {
   "cell_type": "code",
   "execution_count": 84,
   "metadata": {
    "id": "fzAJCskPIUUR"
   },
   "outputs": [],
   "source": [
    "def pnorm2(*args, **kargs):\n",
    "    wektor = args[0]\n",
    "    p = args[1]\n",
    "    pp = kargs['pp'] \n",
    "    suma = 0\n",
    "    for x in wektor:\n",
    "        suma+=x**p\n",
    "    norma = suma**(1.0/p)\n",
    "    if pp:\n",
    "        res = '{0}-norm of vector {1} is {2}'.format(p, wektor, norma)\n",
    "        print(res)\n",
    "    return norma"
   ]
  },
  {
   "cell_type": "code",
   "execution_count": 85,
   "metadata": {
    "id": "j_mtIx6gHvJf"
   },
   "outputs": [
    {
     "name": "stdout",
     "output_type": "stream",
     "text": [
      "3-norm of vector [1, 2, 3] is 3.3019272488946263\n"
     ]
    },
    {
     "data": {
      "text/plain": [
       "3.3019272488946263"
      ]
     },
     "execution_count": 85,
     "metadata": {},
     "output_type": "execute_result"
    }
   ],
   "source": [
    "pnorm2([1,2,3],3,pp=True)"
   ]
  },
  {
   "cell_type": "markdown",
   "metadata": {
    "id": "XMS7CKzxJ2_W"
   },
   "source": [
    "Functions can be arguments of other functions"
   ]
  },
  {
   "cell_type": "code",
   "execution_count": 86,
   "metadata": {
    "id": "mEmTzaw2JFtT"
   },
   "outputs": [],
   "source": [
    "def sum(a,b):\n",
    "    return a+b\n",
    "\n",
    "def diff(a,b):\n",
    "    return a-b\n",
    "\n",
    "def action(x,y,f):\n",
    "    return f(x,y)"
   ]
  },
  {
   "cell_type": "code",
   "execution_count": 87,
   "metadata": {
    "id": "XEopSZ6AJFxr"
   },
   "outputs": [
    {
     "data": {
      "text/plain": [
       "-1"
      ]
     },
     "execution_count": 87,
     "metadata": {},
     "output_type": "execute_result"
    }
   ],
   "source": [
    "action(2, 3, diff)"
   ]
  },
  {
   "cell_type": "markdown",
   "metadata": {
    "id": "WGtJbTIKKE7Y"
   },
   "source": [
    "### `lambda` Functions\n",
    "one-line functions."
   ]
  },
  {
   "cell_type": "code",
   "execution_count": 88,
   "metadata": {
    "id": "3MNfd5EKJFqa"
   },
   "outputs": [
    {
     "data": {
      "text/plain": [
       "-4"
      ]
     },
     "execution_count": 88,
     "metadata": {},
     "output_type": "execute_result"
    }
   ],
   "source": [
    "action(2, 6, lambda x, y: x+y-2*y)"
   ]
  },
  {
   "cell_type": "markdown",
   "metadata": {
    "id": "Onc9g5hvKiFG"
   },
   "source": [
    "## Excercise 3:\n",
    "- Write a function, which takes as an input three coefficients $a,b,c$ of equation $ax^2+bx+c=0$ and computes its real solutions.\n",
    "- Write another version which is able to return complex solutions as well"
   ]
  },
  {
   "cell_type": "code",
   "execution_count": 3,
   "metadata": {
    "id": "wh9SnfyUJFoN"
   },
   "outputs": [
    {
     "data": {
      "text/plain": [
       "'x = 3.0 v x = 2.0'"
      ]
     },
     "execution_count": 3,
     "metadata": {},
     "output_type": "execute_result"
    }
   ],
   "source": [
    "from math import sqrt\n",
    "\n",
    "a = 1 #input('set a: ') \n",
    "b = 1 #input('set b: ') \n",
    "c = 1 #input('set c: ') \n",
    "\n",
    "### YOUR CODE HERE\n",
    "\n",
    "def solve_eq():\n",
    "    a = float(input('set a: '))\n",
    "    b = float(input('set b: '))\n",
    "    c = float(input('set c: '))\n",
    "\n",
    "    x1 = (-b + sqrt(b**2 - 4*a*c))/(2*a)\n",
    "    x2 = (-b - sqrt(b**2 - 4*a*c))/(2*a)\n",
    "    return 'x = {0} v x = {1}'.format(x1, x2)\n",
    "\n",
    "solve_eq()"
   ]
  },
  {
   "cell_type": "markdown",
   "metadata": {
    "id": "blb_zXjlK1Jj"
   },
   "source": [
    "## List comprehension\n",
    "\n",
    "'classic\" list creation:"
   ]
  },
  {
   "cell_type": "code",
   "execution_count": 5,
   "metadata": {
    "id": "40LST2HiJFld"
   },
   "outputs": [
    {
     "name": "stdout",
     "output_type": "stream",
     "text": [
      "[0, 1, 4, 9, 16, 25, 36, 49, 64, 81, 100, 121, 144, 169, 196, 225, 256, 289, 324, 361, 400, 441, 484, 529, 576, 625, 676, 729, 784, 841, 900, 961, 1024, 1089, 1156, 1225, 1296, 1369, 1444, 1521, 1600, 1681, 1764, 1849, 1936, 2025, 2116, 2209, 2304, 2401]\n"
     ]
    }
   ],
   "source": [
    "tab = []\n",
    "for i in range(50):\n",
    "    tab.append(i**2)\n",
    "print(tab)"
   ]
  },
  {
   "cell_type": "markdown",
   "metadata": {
    "id": "VfUq4SRyuXjA"
   },
   "source": [
    "'one-line' list creation:"
   ]
  },
  {
   "cell_type": "code",
   "execution_count": 6,
   "metadata": {
    "id": "x6QYnOV9K-Gi"
   },
   "outputs": [
    {
     "name": "stdout",
     "output_type": "stream",
     "text": [
      "[0, 1, 4, 9, 16, 25, 36, 49, 64, 81, 100, 121, 144, 169, 196, 225, 256, 289, 324, 361, 400, 441, 484, 529, 576, 625, 676, 729, 784, 841, 900, 961, 1024, 1089, 1156, 1225, 1296, 1369, 1444, 1521, 1600, 1681, 1764, 1849, 1936, 2025, 2116, 2209, 2304, 2401]\n"
     ]
    }
   ],
   "source": [
    "tab2 = [i**2 for i in range(50)]\n",
    "print(tab2)"
   ]
  },
  {
   "cell_type": "markdown",
   "metadata": {
    "id": "P2mCug-Tuhfu"
   },
   "source": [
    "It is also possible to create multidimensinal lists in this way:"
   ]
  },
  {
   "cell_type": "code",
   "execution_count": 7,
   "metadata": {
    "id": "h25n6jrDK-D9"
   },
   "outputs": [
    {
     "name": "stdout",
     "output_type": "stream",
     "text": [
      "[[1, 1], [1, 2], [1, 3], [1, 4], [1, 5], [2, 1], [2, 2], [2, 3], [2, 4], [2, 5], [3, 1], [3, 2], [3, 3], [3, 4], [3, 5], [4, 1], [4, 2], [4, 3], [4, 4], [4, 5], [5, 1], [5, 2], [5, 3], [5, 4], [5, 5]]\n"
     ]
    }
   ],
   "source": [
    "tab2d = [[i,j] for i in [1,2,3,4,5] for j in [1,2,3,4,5]]\n",
    "print(tab2d)"
   ]
  },
  {
   "cell_type": "markdown",
   "metadata": {
    "id": "S6wPlmEEuooC"
   },
   "source": [
    "Conditionals can also be included:"
   ]
  },
  {
   "cell_type": "code",
   "execution_count": 8,
   "metadata": {
    "id": "AzhuUm_yK-BX"
   },
   "outputs": [
    {
     "name": "stdout",
     "output_type": "stream",
     "text": [
      "[0, 169, 676, 1521]\n"
     ]
    }
   ],
   "source": [
    "tab3 = [x for x in tab2 if x % 13 == 0]\n",
    "print(tab3)"
   ]
  },
  {
   "cell_type": "markdown",
   "metadata": {
    "id": "LHuwCCngu11p"
   },
   "source": [
    "` if else`:"
   ]
  },
  {
   "cell_type": "code",
   "execution_count": 9,
   "metadata": {
    "id": "12WCfDVxuxIk"
   },
   "outputs": [
    {
     "name": "stdout",
     "output_type": "stream",
     "text": [
      "[0, 0, 0, 0, 0, 0, 0, 0, 0, 0, 0, 0, 0, 169, 0, 0, 0, 0, 0, 0, 0, 0, 0, 0, 0, 0, 676, 0, 0, 0, 0, 0, 0, 0, 0, 0, 0, 0, 0, 1521, 0, 0, 0, 0, 0, 0, 0, 0, 0, 0]\n"
     ]
    }
   ],
   "source": [
    "tab4 = [x if x % 13 == 0 else 0 for x in tab2]\n",
    "print(tab4)"
   ]
  },
  {
   "cell_type": "markdown",
   "metadata": {
    "id": "KaLqVGwsvC5T"
   },
   "source": [
    "## Working with text files\n",
    "`os` package (see: https://docs.python.org/3/library/os.html)."
   ]
  },
  {
   "cell_type": "code",
   "execution_count": 12,
   "metadata": {
    "id": "w90wHt9wuxMp"
   },
   "outputs": [
    {
     "data": {
      "text/plain": [
       "'c:\\\\Users\\\\fmna\\\\Downloads'"
      ]
     },
     "execution_count": 12,
     "metadata": {},
     "output_type": "execute_result"
    }
   ],
   "source": [
    "import os\n",
    "os.getcwd()"
   ]
  },
  {
   "cell_type": "markdown",
   "metadata": {
    "id": "r8SDGFxdvZfe"
   },
   "source": [
    "Openning a text file:\n",
    "```python\n",
    "open('path\\filename','mode')\n",
    "```\n",
    "\n",
    "modes of file openning:\n",
    "\n",
    "`w` - writeable\n",
    "\n",
    "`r` - readable\n",
    "\n",
    "`a` - append"
   ]
  },
  {
   "cell_type": "code",
   "execution_count": 13,
   "metadata": {
    "id": "gy9xHHGVuxGQ"
   },
   "outputs": [],
   "source": [
    "f = open('plik.txt','w')\n",
    "\n",
    "f.write('linia 1\\n')\n",
    "f.write('linia 2\\n')\n",
    "f.write('linia 3\\n')\n",
    "f.write('linia 4\\n')\n",
    "f.write('linia 5\\n')\n",
    "\n",
    "f.close()"
   ]
  },
  {
   "cell_type": "markdown",
   "metadata": {
    "id": "SesOcmtgvkfA"
   },
   "source": [
    "Czytanie z pliku:"
   ]
  },
  {
   "cell_type": "code",
   "execution_count": 14,
   "metadata": {
    "id": "3RLhVZHluxDl"
   },
   "outputs": [
    {
     "name": "stdout",
     "output_type": "stream",
     "text": [
      "linia 1\n",
      "linia 2\n",
      "linia 3\n",
      "linia 4\n",
      "linia 5\n",
      "\n"
     ]
    }
   ],
   "source": [
    "f = open('plik.txt','r')\n",
    "\n",
    "tekst = f.read()\n",
    "\n",
    "f.close()\n",
    "print(tekst)"
   ]
  },
  {
   "cell_type": "code",
   "execution_count": 15,
   "metadata": {
    "id": "IZ7enU1EvoIL"
   },
   "outputs": [
    {
     "name": "stdout",
     "output_type": "stream",
     "text": [
      "linia 1\n",
      "\n",
      "linia 2\n",
      "\n",
      "linia 3\n",
      "\n",
      "linia 4\n",
      "\n",
      "linia 5\n",
      "\n",
      "\n",
      "\n"
     ]
    }
   ],
   "source": [
    "f = open('plik.txt','r')\n",
    "\n",
    "print(f.readline())\n",
    "print(f.readline())\n",
    "print(f.readline())\n",
    "print(f.readline())\n",
    "print(f.readline())\n",
    "print(f.readline())  # empty string\n",
    "print(f.readline())  # empty string\n",
    "\n",
    "f.close()"
   ]
  },
  {
   "cell_type": "code",
   "execution_count": 16,
   "metadata": {
    "id": "_b9waONSvoSu"
   },
   "outputs": [
    {
     "name": "stdout",
     "output_type": "stream",
     "text": [
      "linia 1\n",
      "\n",
      "linia 2\n",
      "\n",
      "linia 3\n",
      "\n",
      "linia 4\n",
      "\n",
      "linia 5\n",
      "\n"
     ]
    }
   ],
   "source": [
    "f = open('plik.txt','r')\n",
    "\n",
    "for line in f:\n",
    "    print(line)\n",
    "\n",
    "f.close()"
   ]
  },
  {
   "cell_type": "code",
   "execution_count": 17,
   "metadata": {
    "id": "2zAtJCXlvoO5"
   },
   "outputs": [
    {
     "name": "stdout",
     "output_type": "stream",
     "text": [
      "linia 1\n",
      "linia 2\n",
      "linia 3\n",
      "linia 4\n",
      "linia 5\n",
      "linia 6\n",
      "linia 7\n",
      "\n"
     ]
    }
   ],
   "source": [
    "f = open('plik.txt','a')\n",
    "f.write('linia 6\\n')\n",
    "f.write('linia 7\\n')\n",
    "f.close()\n",
    "\n",
    "f = open('plik.txt','r')\n",
    "tekst = f.read()\n",
    "f.close()\n",
    "print(tekst)"
   ]
  },
  {
   "cell_type": "markdown",
   "metadata": {
    "id": "uslX43xdwDW0"
   },
   "source": [
    "### keyword `with`"
   ]
  },
  {
   "cell_type": "code",
   "execution_count": 18,
   "metadata": {
    "id": "KdXLD-xavoMb"
   },
   "outputs": [
    {
     "name": "stdout",
     "output_type": "stream",
     "text": [
      "linia 1\n",
      "linia 2\n",
      "linia 3\n",
      "linia 4\n",
      "linia 5\n",
      "linia 6\n",
      "linia 7\n",
      "\n"
     ]
    },
    {
     "ename": "ValueError",
     "evalue": "I/O operation on closed file.",
     "output_type": "error",
     "traceback": [
      "\u001b[1;31m---------------------------------------------------------------------------\u001b[0m",
      "\u001b[1;31mValueError\u001b[0m                                Traceback (most recent call last)",
      "Cell \u001b[1;32mIn [18], line 4\u001b[0m\n\u001b[0;32m      2\u001b[0m     tekst \u001b[39m=\u001b[39m f\u001b[39m.\u001b[39mread()\n\u001b[0;32m      3\u001b[0m \u001b[39mprint\u001b[39m(tekst)\n\u001b[1;32m----> 4\u001b[0m f\u001b[39m.\u001b[39;49mread()\n",
      "\u001b[1;31mValueError\u001b[0m: I/O operation on closed file."
     ]
    }
   ],
   "source": [
    "with open('plik.txt','r') as f:\n",
    "    tekst = f.read()\n",
    "print(tekst)\n",
    "f.read()"
   ]
  },
  {
   "cell_type": "markdown",
   "metadata": {
    "id": "CNmA9Eq8wQPg"
   },
   "source": [
    "## Working with csv files. Package `csv`\n",
    "(https://docs.python.org/3/library/csv.html)."
   ]
  },
  {
   "cell_type": "code",
   "execution_count": 11,
   "metadata": {
    "id": "3MtaHRdLv7b6"
   },
   "outputs": [],
   "source": [
    "import csv"
   ]
  },
  {
   "cell_type": "code",
   "execution_count": 19,
   "metadata": {
    "id": "u0uxa2Rqv7Xe"
   },
   "outputs": [],
   "source": [
    "with open('plik.csv','w', newline='') as f:\n",
    "    csvwriter = csv.writer(f, delimiter=';') \n",
    "    csvwriter.writerow(['row_1_col_1', 'row_1_col_2','row_1_col_3'])\n",
    "    csvwriter.writerow(['row_2_col_1', 'row_2_col_2','row_2_col_3'])\n",
    "    csvwriter.writerow(['row_3_col_1', 'row_3_col_2','row_3_col_3'])"
   ]
  },
  {
   "cell_type": "code",
   "execution_count": 20,
   "metadata": {
    "id": "_ykmzY3zv7UW"
   },
   "outputs": [
    {
     "name": "stdout",
     "output_type": "stream",
     "text": [
      "row_1_col_1\n",
      "row_1_col_2\n",
      "row_1_col_3\n",
      "row_2_col_1\n",
      "row_2_col_2\n",
      "row_2_col_3\n",
      "row_3_col_1\n",
      "row_3_col_2\n",
      "row_3_col_3\n"
     ]
    }
   ],
   "source": [
    "with open('plik.csv','r', newline='') as f:\n",
    "    csvreader = csv.reader(f, delimiter=';')\n",
    "    for row in csvreader:\n",
    "        for col in row:\n",
    "            print(col)"
   ]
  },
  {
   "cell_type": "markdown",
   "metadata": {
    "id": "WnpyGwigwnb2"
   },
   "source": [
    "## Classes in Python\n",
    "(https://docs.python.org/3/tutorial/classes.html).\n",
    "\n",
    "class ClassName(inherited, classes):\n",
    "\n",
    "Methods begining and ending with `__` are special methods (https://docs.python.org/3/reference/datamodel.html#special-method-names)\n",
    "\n",
    "Below exaplmes of `__init__` and `__add__` methods."
   ]
  },
  {
   "cell_type": "code",
   "execution_count": 21,
   "metadata": {
    "id": "vAPaOe_bv7R2"
   },
   "outputs": [],
   "source": [
    "class Wektor(object):\n",
    "    \n",
    "    def __init__(self, lista=[]):\n",
    "        self.values = lista     \n",
    "        self.dim = len(lista)   \n",
    "\n",
    "   \n",
    "    def dl(self): \n",
    "        s=0\n",
    "        for x in self.values:\n",
    "            s+=x**2\n",
    "        return s**(1/2.0)\n",
    "\n",
    "\n",
    "    def __add__(self, w):\n",
    "        assert (self.dim == w.dim), 'dimensions must be the same!'\n",
    "        return Wektor([x+y for (x,y) in zip(self.values, w.values)])"
   ]
  },
  {
   "cell_type": "code",
   "execution_count": 22,
   "metadata": {
    "id": "9w3L85_ews6j"
   },
   "outputs": [],
   "source": [
    "w1 = Wektor([1,2,3])\n",
    "w2 = Wektor([4,5,6])"
   ]
  },
  {
   "cell_type": "code",
   "execution_count": 23,
   "metadata": {
    "id": "YL-ESbEMwtDz"
   },
   "outputs": [
    {
     "name": "stdout",
     "output_type": "stream",
     "text": [
      "[1, 2, 3]\n",
      "[4, 5, 6]\n"
     ]
    }
   ],
   "source": [
    "print(w1.values)\n",
    "print(w2.values)"
   ]
  },
  {
   "cell_type": "code",
   "execution_count": 24,
   "metadata": {
    "id": "waiOihTwv7PX"
   },
   "outputs": [
    {
     "name": "stdout",
     "output_type": "stream",
     "text": [
      "3\n",
      "3\n"
     ]
    }
   ],
   "source": [
    "print(w1.dim)\n",
    "print(w2.dim)"
   ]
  },
  {
   "cell_type": "code",
   "execution_count": 25,
   "metadata": {
    "id": "2FMOHKXDw3u8"
   },
   "outputs": [],
   "source": [
    "w3 = w1 + w2"
   ]
  },
  {
   "cell_type": "code",
   "execution_count": 26,
   "metadata": {
    "id": "rAW3nqwEw3sk"
   },
   "outputs": [
    {
     "data": {
      "text/plain": [
       "[5, 7, 9]"
      ]
     },
     "execution_count": 26,
     "metadata": {},
     "output_type": "execute_result"
    }
   ],
   "source": [
    "w3.values"
   ]
  },
  {
   "cell_type": "code",
   "execution_count": 27,
   "metadata": {
    "id": "wf4sS4X-w93_"
   },
   "outputs": [
    {
     "data": {
      "text/plain": [
       "12.449899597988733"
      ]
     },
     "execution_count": 27,
     "metadata": {},
     "output_type": "execute_result"
    }
   ],
   "source": [
    "w3.dl()"
   ]
  },
  {
   "cell_type": "code",
   "execution_count": 28,
   "metadata": {
    "id": "rs1l2fliw-fa"
   },
   "outputs": [
    {
     "data": {
      "text/plain": [
       "True"
      ]
     },
     "execution_count": 28,
     "metadata": {},
     "output_type": "execute_result"
    }
   ],
   "source": [
    "isinstance(w3, Wektor)"
   ]
  },
  {
   "cell_type": "code",
   "execution_count": 29,
   "metadata": {
    "id": "KeGDyQw3w-oj"
   },
   "outputs": [
    {
     "ename": "AssertionError",
     "evalue": "dimensions must be the same!",
     "output_type": "error",
     "traceback": [
      "\u001b[1;31m---------------------------------------------------------------------------\u001b[0m",
      "\u001b[1;31mAssertionError\u001b[0m                            Traceback (most recent call last)",
      "Cell \u001b[1;32mIn [29], line 2\u001b[0m\n\u001b[0;32m      1\u001b[0m w4 \u001b[39m=\u001b[39m Wektor([\u001b[39m1\u001b[39m,\u001b[39m2\u001b[39m,\u001b[39m3\u001b[39m,\u001b[39m4\u001b[39m])\n\u001b[1;32m----> 2\u001b[0m w5 \u001b[39m=\u001b[39m w3 \u001b[39m+\u001b[39;49m w4\n",
      "Cell \u001b[1;32mIn [21], line 16\u001b[0m, in \u001b[0;36mWektor.__add__\u001b[1;34m(self, w)\u001b[0m\n\u001b[0;32m     15\u001b[0m \u001b[39mdef\u001b[39;00m \u001b[39m__add__\u001b[39m(\u001b[39mself\u001b[39m, w):\n\u001b[1;32m---> 16\u001b[0m     \u001b[39massert\u001b[39;00m (\u001b[39mself\u001b[39m\u001b[39m.\u001b[39mdim \u001b[39m==\u001b[39m w\u001b[39m.\u001b[39mdim), \u001b[39m'\u001b[39m\u001b[39mdimensions must be the same!\u001b[39m\u001b[39m'\u001b[39m\n\u001b[0;32m     17\u001b[0m     \u001b[39mreturn\u001b[39;00m Wektor([x\u001b[39m+\u001b[39my \u001b[39mfor\u001b[39;00m (x,y) \u001b[39min\u001b[39;00m \u001b[39mzip\u001b[39m(\u001b[39mself\u001b[39m\u001b[39m.\u001b[39mvalues, w\u001b[39m.\u001b[39mvalues)])\n",
      "\u001b[1;31mAssertionError\u001b[0m: dimensions must be the same!"
     ]
    }
   ],
   "source": [
    "w4 = Wektor([1,2,3,4])\n",
    "w5 = w3 + w4"
   ]
  },
  {
   "cell_type": "markdown",
   "metadata": {
    "id": "xS7EyL5txH-z"
   },
   "source": [
    "## Excercise 4:\n",
    "Implement class `Figure` with appropriate methods allowing the computation of surface and circumference of the represented figure. Class `Figura` should contain only empy declarations of this methods, one can use the kayeword `pass`.\n",
    "\n",
    "Then, implement classes `Triangle`, `Rectangle`, `Square` inheriting from the `Figure`. The initialization method should accept sizes of the Figure. It should check if it is possible to construct the Figure from such sizes."
   ]
  },
  {
   "cell_type": "code",
   "execution_count": 34,
   "metadata": {
    "id": "u3xb2OW6w90y"
   },
   "outputs": [],
   "source": [
    "import math\n",
    "\n",
    "class Figure(object):\n",
    "    def perimeter(self):\n",
    "        pass\n",
    "\n",
    "    def area(self):\n",
    "        pass\n",
    "\n",
    "class Triangle(Figure):\n",
    "    def __init__(self, a, b, c) -> None:\n",
    "        if (a+b<c or a+c<b or b+c<a):\n",
    "            raise ValueError('Please enter valid side dimensions')\n",
    "        self.a = a\n",
    "        self.b = b\n",
    "        self.c = c\n",
    "    \n",
    "    def perimeter(self):\n",
    "        return self.a + self.b + self.c\n",
    "    \n",
    "    def area(self):\n",
    "        return 0.25 * sqrt((self.a + self.b + self.c) * (-self.a + self.b + self.c) * (self.a - self.b + self.c) * (self.a + self.b - self.c))\n",
    "\n",
    "class Rectangle(Figure):\n",
    "    def __init__(self, x, y) -> None:\n",
    "        if (x==y):\n",
    "            raise ValueError('That\\'s a square, use the correct class!')\n",
    "        self.x = x\n",
    "        self.y = y\n",
    "    \n",
    "    def perimeter(self):\n",
    "        return self.x*2 + self.y*2\n",
    "    \n",
    "    def area(self):\n",
    "        return self.x * self.y\n",
    "\n",
    "class Square(Figure):\n",
    "    def __init__(self, l) -> None:\n",
    "        self.l = l\n",
    "    \n",
    "    def perimeter(self):\n",
    "        return self.l*4\n",
    "    \n",
    "    def area(self):\n",
    "        return self.l*self.l\n",
    "    \n",
    "class Circle(Figure):\n",
    "    def __init__(self, r) -> None:\n",
    "        self.r = r\n",
    "    \n",
    "    def perimeter(self):\n",
    "        return math.pi * self.r*2\n",
    "\n",
    "    def area(self):\n",
    "        return math.pi * self.r**2"
   ]
  },
  {
   "cell_type": "markdown",
   "metadata": {
    "id": "4ZZF68t-kiQ8"
   },
   "source": [
    "# Python - data analysis packages"
   ]
  },
  {
   "cell_type": "markdown",
   "metadata": {
    "id": "5xPZCNLQ2zKO"
   },
   "source": [
    "## Numpy ( http://www.numpy.org/ )\n",
    "`Numpy` is a  basic Python library for various numerical operations and algorithms.\n",
    "\n",
    "The main class of numpy is `ndarray` , i.e. the multidimensional array, which can represent numbers, vectors, matrices, tensors, etc.\n",
    "\n",
    "`numpy` package is often imported with the `np` alias."
   ]
  },
  {
   "cell_type": "code",
   "execution_count": 38,
   "metadata": {
    "id": "UUSvbKHP2dd9"
   },
   "outputs": [],
   "source": [
    "import numpy as np"
   ]
  },
  {
   "cell_type": "markdown",
   "metadata": {
    "id": "VWilOQkE_yA8"
   },
   "source": [
    "### Class `ndarray`.\n",
    "Creation of `ndarray` objects:"
   ]
  },
  {
   "cell_type": "code",
   "execution_count": 39,
   "metadata": {
    "id": "f_Rc7P6V_8b5"
   },
   "outputs": [
    {
     "name": "stdout",
     "output_type": "stream",
     "text": [
      "a: [1 2 3 4]\n",
      "b: [1.3 2.5]\n",
      "c: [1 2]\n",
      "d: [1.+2.j 3.+1.j]\n",
      "e: [[1 2 4]\n",
      " [4 5 7]]\n"
     ]
    },
    {
     "name": "stderr",
     "output_type": "stream",
     "text": [
      "C:\\Users\\fmna\\AppData\\Local\\Temp\\ipykernel_8220\\2911530890.py:3: DeprecationWarning: `np.int` is a deprecated alias for the builtin `int`. To silence this warning, use `int` by itself. Doing this will not modify any behavior and is safe. When replacing `np.int`, you may wish to use e.g. `np.int64` or `np.int32` to specify the precision. If you wish to review your current use, check the release note link for additional information.\n",
      "Deprecated in NumPy 1.20; for more details and guidance: https://numpy.org/devdocs/release/1.20.0-notes.html#deprecations\n",
      "  c = np.array([1.3, 2.5], dtype=np.int) #casting into the 'int' type\n"
     ]
    },
    {
     "data": {
      "text/plain": [
       "numpy.ndarray"
      ]
     },
     "execution_count": 39,
     "metadata": {},
     "output_type": "execute_result"
    }
   ],
   "source": [
    "a = np.array([1,2,3,4])\n",
    "b = np.array([1.3, 2.5])\n",
    "c = np.array([1.3, 2.5], dtype=np.int) #casting into the 'int' type\n",
    "d = np.array([1+2j, 3+1j])\n",
    "e = np.array([[1,2,4],[4,5,7]])\n",
    "print('a:', a)\n",
    "print('b:', b)\n",
    "print('c:', c)\n",
    "print('d:', d)\n",
    "print('e:', e)\n",
    "type(a)"
   ]
  },
  {
   "cell_type": "markdown",
   "metadata": {
    "id": "lFD4AIrBffbv"
   },
   "source": [
    "Basic fields of the `ndarray` objects:"
   ]
  },
  {
   "cell_type": "code",
   "execution_count": 40,
   "metadata": {
    "id": "SNYidx34AHvA"
   },
   "outputs": [
    {
     "name": "stdout",
     "output_type": "stream",
     "text": [
      "(4,)\n",
      "(2, 3)\n",
      "1\n",
      "2\n",
      "int32\n",
      "complex128\n",
      "2\n",
      "6\n"
     ]
    }
   ],
   "source": [
    "print(a.shape) #size of the array\n",
    "print(e.shape)\n",
    "print(b.ndim) #number of dimensions\n",
    "print(e.ndim)\n",
    "print(c.dtype) #data type\n",
    "print(d.dtype) \n",
    "print(d.size) #number of elements\n",
    "print(e.size)"
   ]
  },
  {
   "cell_type": "markdown",
   "metadata": {
    "id": "5Oy0msBz2-BF"
   },
   "source": [
    "Referreing to the `ndarray` elements is the sam as in the case of lists:"
   ]
  },
  {
   "cell_type": "code",
   "execution_count": 41,
   "metadata": {
    "id": "udyrHlfIAKZK"
   },
   "outputs": [
    {
     "name": "stdout",
     "output_type": "stream",
     "text": [
      "1\n",
      "[4 5 7]\n",
      "7\n",
      "[2 3]\n",
      "[2 5]\n",
      "[1 2 4]\n"
     ]
    }
   ],
   "source": [
    "print(a[0])\n",
    "print(e[1])\n",
    "print(e[1,2])\n",
    "print(a[1:3])\n",
    "print(e[:,1])\n",
    "print(e[0,:])"
   ]
  },
  {
   "cell_type": "markdown",
   "metadata": {
    "id": "mOP-odgN3GU4"
   },
   "source": [
    "Selecting elements satisfying a condition:"
   ]
  },
  {
   "cell_type": "code",
   "execution_count": 44,
   "metadata": {
    "id": "dIAyZ0ZmAOCM"
   },
   "outputs": [
    {
     "data": {
      "text/plain": [
       "array([3, 4])"
      ]
     },
     "execution_count": 44,
     "metadata": {},
     "output_type": "execute_result"
    }
   ],
   "source": [
    "a[a>2]"
   ]
  },
  {
   "cell_type": "markdown",
   "metadata": {
    "id": "P3ghO1kw3MDM"
   },
   "source": [
    "Selecting elements by their indices:"
   ]
  },
  {
   "cell_type": "code",
   "execution_count": 45,
   "metadata": {
    "id": "ob6Ru1WuARs-"
   },
   "outputs": [
    {
     "data": {
      "text/plain": [
       "array([1, 2, 1, 2])"
      ]
     },
     "execution_count": 45,
     "metadata": {},
     "output_type": "execute_result"
    }
   ],
   "source": [
    "a[[0,1,0,1]]"
   ]
  },
  {
   "cell_type": "markdown",
   "metadata": {
    "id": "l_vcZLlxh19H"
   },
   "source": [
    "Common useful methods for creation of `ndarray` objects:"
   ]
  },
  {
   "cell_type": "code",
   "execution_count": 46,
   "metadata": {
    "id": "boa60bu3AkZJ"
   },
   "outputs": [
    {
     "data": {
      "text/plain": [
       "array([0., 0., 0., 0., 0., 0., 0., 0., 0., 0.])"
      ]
     },
     "execution_count": 46,
     "metadata": {},
     "output_type": "execute_result"
    }
   ],
   "source": [
    "np.zeros(10)"
   ]
  },
  {
   "cell_type": "code",
   "execution_count": 47,
   "metadata": {
    "id": "ESWb7yK2A2mX"
   },
   "outputs": [
    {
     "data": {
      "text/plain": [
       "array([[0., 0., 0.],\n",
       "       [0., 0., 0.]])"
      ]
     },
     "execution_count": 47,
     "metadata": {},
     "output_type": "execute_result"
    }
   ],
   "source": [
    "np.zeros((2,3))"
   ]
  },
  {
   "cell_type": "code",
   "execution_count": 48,
   "metadata": {
    "id": "7sMWKYUKA2tJ"
   },
   "outputs": [
    {
     "data": {
      "text/plain": [
       "array([1., 1., 1., 1., 1., 1., 1., 1., 1., 1.])"
      ]
     },
     "execution_count": 48,
     "metadata": {},
     "output_type": "execute_result"
    }
   ],
   "source": [
    "np.ones(10)"
   ]
  },
  {
   "cell_type": "code",
   "execution_count": 49,
   "metadata": {
    "id": "wB-LYxThBD_J"
   },
   "outputs": [
    {
     "data": {
      "text/plain": [
       "array([[1., 1., 1., 1.],\n",
       "       [1., 1., 1., 1.],\n",
       "       [1., 1., 1., 1.]])"
      ]
     },
     "execution_count": 49,
     "metadata": {},
     "output_type": "execute_result"
    }
   ],
   "source": [
    "np.ones((3,4))"
   ]
  },
  {
   "cell_type": "code",
   "execution_count": 50,
   "metadata": {
    "id": "Mfbv6i25BPSu"
   },
   "outputs": [
    {
     "data": {
      "text/plain": [
       "array([0, 1, 2, 3, 4])"
      ]
     },
     "execution_count": 50,
     "metadata": {},
     "output_type": "execute_result"
    }
   ],
   "source": [
    "np.arange(5)"
   ]
  },
  {
   "cell_type": "code",
   "execution_count": 51,
   "metadata": {
    "id": "naqMZp8xBXDu"
   },
   "outputs": [
    {
     "data": {
      "text/plain": [
       "array([ 3,  4,  5,  6,  7,  8,  9, 10, 11, 12, 13, 14])"
      ]
     },
     "execution_count": 51,
     "metadata": {},
     "output_type": "execute_result"
    }
   ],
   "source": [
    "np.arange(3,15)"
   ]
  },
  {
   "cell_type": "code",
   "execution_count": 52,
   "metadata": {
    "id": "BpX4MOgUBdc3"
   },
   "outputs": [
    {
     "data": {
      "text/plain": [
       "array([ 3. ,  3.9,  4.8,  5.7,  6.6,  7.5,  8.4,  9.3, 10.2, 11.1, 12. ,\n",
       "       12.9, 13.8, 14.7])"
      ]
     },
     "execution_count": 52,
     "metadata": {},
     "output_type": "execute_result"
    }
   ],
   "source": [
    "np.arange(3,15,0.9)"
   ]
  },
  {
   "cell_type": "code",
   "execution_count": 53,
   "metadata": {
    "id": "L6mCt_LpB0U2"
   },
   "outputs": [
    {
     "data": {
      "text/plain": [
       "array([0.        , 0.11111111, 0.22222222, 0.33333333, 0.44444444,\n",
       "       0.55555556, 0.66666667, 0.77777778, 0.88888889, 1.        ])"
      ]
     },
     "execution_count": 53,
     "metadata": {},
     "output_type": "execute_result"
    }
   ],
   "source": [
    "np.linspace(0,1,10) # 10 equally distant point in interval from 0 to 1"
   ]
  },
  {
   "cell_type": "markdown",
   "metadata": {
    "id": "PE1roTj0jGUJ"
   },
   "source": [
    "### Arithmetics\n",
    "All arithmetic operations on the `ndarray` objects are performed element-wise, therefore the dimensions must agree:"
   ]
  },
  {
   "cell_type": "code",
   "execution_count": 54,
   "metadata": {
    "id": "_3DQ1FhSCIN-"
   },
   "outputs": [
    {
     "name": "stdout",
     "output_type": "stream",
     "text": [
      "a: [1 2 3 4] b: [1. 1. 1. 1.]\n",
      "a+b: [2. 3. 4. 5.]\n",
      "a-b: [0. 1. 2. 3.]\n",
      "a*b: [1. 2. 3. 4.]\n",
      "a/(2*b): [0.5 1.  1.5 2. ]\n",
      "a**2: [ 1  4  9 16]\n",
      "a**(b/2): [1.         1.41421356 1.73205081 2.        ]\n"
     ]
    }
   ],
   "source": [
    "a = np.array([1,2,3,4])\n",
    "b = np.ones(4)\n",
    "print('a:',a,'b:',b)\n",
    "print('a+b:',a+b)\n",
    "print('a-b:',a-b)\n",
    "print('a*b:',a*b)\n",
    "print('a/(2*b):',a/(2*b))\n",
    "print('a**2:',a**2)\n",
    "print('a**(b/2):',a**(b/2))"
   ]
  },
  {
   "cell_type": "markdown",
   "metadata": {
    "id": "jn0KqUF5CQfH"
   },
   "source": [
    "In the `numpy` packege there are many common mathematical functions, that take the `ndarray`objects as an argument, e.g.:"
   ]
  },
  {
   "cell_type": "code",
   "execution_count": 55,
   "metadata": {
    "id": "k17CspahCS4-"
   },
   "outputs": [
    {
     "name": "stdout",
     "output_type": "stream",
     "text": [
      "sin(a): [ 0.84147098  0.90929743  0.14112001 -0.7568025 ]\n",
      "log(a): [0.         0.69314718 1.09861229 1.38629436]\n"
     ]
    }
   ],
   "source": [
    "print('sin(a):', np.sin(a))\n",
    "print('log(a):', np.log(a))"
   ]
  },
  {
   "cell_type": "markdown",
   "metadata": {
    "id": "S8uLX4SL81vv"
   },
   "source": [
    "Some other useful methods:"
   ]
  },
  {
   "cell_type": "code",
   "execution_count": 56,
   "metadata": {
    "id": "qWEVJtDO83a7"
   },
   "outputs": [
    {
     "name": "stdout",
     "output_type": "stream",
     "text": [
      "a: [1.  1.5 2.  2.5 3.  3.5 4.  4.5]\n",
      "sum of elements: 22.0\n",
      "product of elements: 1417.5\n",
      "cumsum: [ 1.   2.5  4.5  7.  10.  13.5 17.5 22. ]\n",
      "max: 4.5\n",
      "argmax: 7\n"
     ]
    }
   ],
   "source": [
    "a = np.arange(1,5,0.5)\n",
    "print('a:',a)\n",
    "print('sum of elements:', np.sum(a))\n",
    "print('product of elements:', np.prod(a))\n",
    "print('cumsum:', np.cumsum(a))\n",
    "print('max:', np.max(a)) #analogicznie minimum\n",
    "print('argmax:', np.argmax(a))"
   ]
  },
  {
   "cell_type": "markdown",
   "metadata": {
    "id": "bDsMZnVxCZHb"
   },
   "source": [
    "In the case of more than one dimension it is possible to perform operations such as `sum`, `max`, `min` for a given `axis`:"
   ]
  },
  {
   "cell_type": "code",
   "execution_count": 57,
   "metadata": {
    "id": "2Qr_1zeDCS9g"
   },
   "outputs": [
    {
     "name": "stdout",
     "output_type": "stream",
     "text": [
      "m: [[1 2 3]\n",
      " [4 5 6]\n",
      " [7 8 9]]\n",
      "sum: 45\n",
      "sum in rows: [ 6 15 24]\n",
      "suma in collumns: [12 15 18]\n"
     ]
    }
   ],
   "source": [
    "m = np.array([[1,2,3],[4,5,6],[7,8,9]])\n",
    "print('m:',m)\n",
    "print('sum:',np.sum(m))\n",
    "print('sum in rows:',np.sum(m, axis=1))\n",
    "print('suma in collumns:',np.sum(m, axis=0))"
   ]
  },
  {
   "cell_type": "markdown",
   "metadata": {
    "id": "GIxOVvtE9Fy-"
   },
   "source": [
    "Reshaping:"
   ]
  },
  {
   "cell_type": "code",
   "execution_count": 58,
   "metadata": {
    "id": "zTypDFL9CTCM"
   },
   "outputs": [
    {
     "name": "stdout",
     "output_type": "stream",
     "text": [
      "[1. 1. 1. 1. 1. 1. 1. 1. 1. 1. 1. 1. 1. 1. 1.]\n",
      "[[1. 1. 1. 1. 1.]\n",
      " [1. 1. 1. 1. 1.]\n",
      " [1. 1. 1. 1. 1.]]\n"
     ]
    }
   ],
   "source": [
    "a = np.ones(15)\n",
    "print(a)\n",
    "print(a.reshape(3,5))"
   ]
  },
  {
   "cell_type": "markdown",
   "metadata": {
    "id": "hnCwTM9jCm7g"
   },
   "source": [
    "### Linear algebra"
   ]
  },
  {
   "cell_type": "code",
   "execution_count": 59,
   "metadata": {
    "id": "nwrFGG_iCTAL"
   },
   "outputs": [
    {
     "name": "stdout",
     "output_type": "stream",
     "text": [
      "vector v: [1 1]\n",
      "matrix m: [[1 2]\n",
      " [3 4]]\n",
      "vector transposition: [1 1]\n",
      "matrix transposition: [[1 3]\n",
      " [2 4]]\n",
      "vector * vector: 2\n",
      "matrix * vector: [3 7]\n",
      "vector * matrix: [4 6]\n"
     ]
    }
   ],
   "source": [
    "v = np.array([1,1])\n",
    "m = np.array([[1,2],[3,4]])\n",
    "print('vector v:',v)\n",
    "print('matrix m:',m)\n",
    "print('vector transposition:',v.T) #nothing happens\n",
    "print('matrix transposition:',m.T)\n",
    "print('vector * vector:', np.dot(v,v)) #scalar product\n",
    "print('matrix * vector:', np.dot(m,v))\n",
    "print('vector * matrix:', np.dot(v,m))"
   ]
  },
  {
   "cell_type": "markdown",
   "metadata": {
    "id": "DTVoH__fCwtK"
   },
   "source": [
    "Since the transposition of a one-dimensional array introduces no changes, multiplication of a matrix by a vector does not always work properly. To ensure the operations to be consistent with matrixx algerba rules vector should be defined as a matrix with one row/collumn."
   ]
  },
  {
   "cell_type": "code",
   "execution_count": 60,
   "metadata": {
    "id": "yHbrbma7CvWY"
   },
   "outputs": [
    {
     "name": "stdout",
     "output_type": "stream",
     "text": [
      "vector v: [[1 1]]\n",
      "matrix m: [[1 2]\n",
      " [3 4]]\n",
      "vector transposition: [[1]\n",
      " [1]]\n",
      "matrix transposition: [[1 3]\n",
      " [2 4]]\n",
      "vector * vector: [[2]]\n",
      "matrix * vector: [[3]\n",
      " [7]]\n",
      "vector * matrix: [[4 6]]\n"
     ]
    }
   ],
   "source": [
    "v = np.array([[1,1]])\n",
    "m = np.array([[1,2],[3,4]])\n",
    "print('vector v:',v)\n",
    "print('matrix m:',m)\n",
    "print('vector transposition:',v.T)\n",
    "print('matrix transposition:',m.T)\n",
    "print('vector * vector:', np.dot(v,v.T)) #one-element matrix\n",
    "print('matrix * vector:', np.dot(m,v.T)) #one-collumn matrix\n",
    "print('vector * matrix:', np.dot(v,m)) #one-row matrix"
   ]
  },
  {
   "cell_type": "markdown",
   "metadata": {},
   "source": [
    "It is possible to use `np.matrix` instead of `np.array`:"
   ]
  },
  {
   "cell_type": "code",
   "execution_count": 61,
   "metadata": {
    "id": "xlh_MY4OCvir"
   },
   "outputs": [
    {
     "data": {
      "text/plain": [
       "matrix([[1, 2, 3]])"
      ]
     },
     "execution_count": 61,
     "metadata": {},
     "output_type": "execute_result"
    }
   ],
   "source": [
    "np.matrix([1,2,3])"
   ]
  },
  {
   "cell_type": "code",
   "execution_count": 62,
   "metadata": {
    "id": "6fuj6TkVCve9"
   },
   "outputs": [
    {
     "data": {
      "text/plain": [
       "matrix([[1, 2],\n",
       "        [3, 4]])"
      ]
     },
     "execution_count": 62,
     "metadata": {},
     "output_type": "execute_result"
    }
   ],
   "source": [
    "np.matrix([[1,2],[3,4]])"
   ]
  },
  {
   "cell_type": "markdown",
   "metadata": {
    "id": "xImud91SDXy5"
   },
   "source": [
    "Detrminant and the inverse matrix (`np.linalg`):"
   ]
  },
  {
   "cell_type": "code",
   "execution_count": 63,
   "metadata": {
    "id": "14YgPXYYDWuM"
   },
   "outputs": [
    {
     "name": "stdout",
     "output_type": "stream",
     "text": [
      "matrix m: [[1 2]\n",
      " [3 4]]\n",
      "det(m): -2.0000000000000004\n",
      "m^(-1): [[-2.   1. ]\n",
      " [ 1.5 -0.5]]\n",
      "m*m^(-1): [[1.0000000e+00 0.0000000e+00]\n",
      " [8.8817842e-16 1.0000000e+00]]\n"
     ]
    }
   ],
   "source": [
    "m = np.matrix([[1,2],[3,4]])\n",
    "print('matrix m:',m)\n",
    "print('det(m):', np.linalg.det(m))\n",
    "print('m^(-1):', np.linalg.inv(m))\n",
    "print('m*m^(-1):', np.dot(m,np.linalg.inv(m)))"
   ]
  },
  {
   "cell_type": "markdown",
   "metadata": {},
   "source": [
    "### EXCERCISE 5\n",
    "\n",
    "Define a function accepting two numpy arrays: A and B. A is a square matrix, B is a vector. THe function should be able to solve a linear equation AX=B, returning X (check if the dimensions of A and B are consistent)"
   ]
  },
  {
   "cell_type": "code",
   "execution_count": 68,
   "metadata": {},
   "outputs": [],
   "source": [
    "#YOUR CODE HERE\n",
    "\n",
    "def solve_matrix(a, b):\n",
    "    if (a.ndim != b.size):\n",
    "        raise ValueError('A and B matrix dimensins and not consistent!')\n",
    "    print(np.linalg.solve(a, b))"
   ]
  },
  {
   "cell_type": "code",
   "execution_count": 69,
   "metadata": {},
   "outputs": [
    {
     "name": "stdout",
     "output_type": "stream",
     "text": [
      "[ 2. -3.]\n"
     ]
    }
   ],
   "source": [
    "solve_matrix(np.array([[5,-2],[7,6]]), np.array([16, -4]))"
   ]
  },
  {
   "cell_type": "markdown",
   "metadata": {
    "id": "hgZDDTSeD48V"
   },
   "source": [
    "## Matplotlib ( http://matplotlib.org/ )\n",
    "The `matplotlib` package is a very large Python library for data visualization and creation of various 2D and 3D charts and plots (see the matplotlib gallery: http://matplotlib.org/gallery.html)."
   ]
  },
  {
   "cell_type": "code",
   "execution_count": 70,
   "metadata": {
    "id": "hfbJP4U0De__"
   },
   "outputs": [],
   "source": [
    "# import of the matplotlib package\n",
    "import matplotlib.pyplot as plt\n",
    "\n",
    "# uncomment the line below if your plots do not appear in the jupyter notebook\n",
    "#%matplotlib inline"
   ]
  },
  {
   "cell_type": "markdown",
   "metadata": {
    "id": "mwwEMQ6bEFB3"
   },
   "source": [
    "### Example plot\n",
    "An exemplary plot of the sinus function:"
   ]
  },
  {
   "cell_type": "code",
   "execution_count": 71,
   "metadata": {
    "id": "bNd1ueh0D3q9"
   },
   "outputs": [
    {
     "data": {
      "image/png": "[encoded data removed]",
      "text/plain": [
       "<Figure size 640x480 with 1 Axes>"
      ]
     },
     "metadata": {},
     "output_type": "display_data"
    }
   ],
   "source": [
    "plt.figure()\n",
    "x2 = np.linspace(0.0,6.0,1000)\n",
    "y2 = np.sin(x2)\n",
    "plt.plot(x2,y2, 'r')\n",
    "plt.show()"
   ]
  },
  {
   "cell_type": "markdown",
   "metadata": {
    "id": "iAJfsASVEamD"
   },
   "source": [
    "### Style changes:"
   ]
  },
  {
   "cell_type": "code",
   "execution_count": 72,
   "metadata": {
    "id": "YUW94PY4D333"
   },
   "outputs": [
    {
     "data": {
      "image/png": "[encoded data removed]",
      "text/plain": [
       "<Figure size 640x480 with 1 Axes>"
      ]
     },
     "metadata": {},
     "output_type": "display_data"
    }
   ],
   "source": [
    "x = np.linspace(1, 10, 100)\n",
    "y = np.sin(x)\n",
    "\n",
    "# plot\n",
    "plt.plot(x, y, c='r', marker='+', linestyle='-.', linewidth=5) #wiele innych opcji patrz w dokumentacji\n",
    "# show\n",
    "plt.show()"
   ]
  },
  {
   "cell_type": "markdown",
   "metadata": {
    "id": "9VboLNcREnTo"
   },
   "source": [
    "Adding title, axes titles, grid, and legend:"
   ]
  },
  {
   "cell_type": "code",
   "execution_count": 73,
   "metadata": {
    "id": "Xn4sZdJUD300"
   },
   "outputs": [
    {
     "data": {
      "image/png": "[encoded data removed]",
      "text/plain": [
       "<Figure size 640x480 with 1 Axes>"
      ]
     },
     "metadata": {},
     "output_type": "display_data"
    }
   ],
   "source": [
    "x = np.linspace(1, 10, 100)\n",
    "y = np.sin(x)\n",
    "\n",
    "\n",
    "fig, ax = plt.subplots()\n",
    "\n",
    "ax.plot(x, y, c='r', linestyle='-.', label='sin(x)') # see documentations for many other options\n",
    "ax.legend()\n",
    "ax.set_title('Sin(x)')\n",
    "ax.set_xlabel('x')\n",
    "ax.set_ylabel('y')\n",
    "ax.grid(True)\n",
    "\n",
    "plt.show()"
   ]
  },
  {
   "cell_type": "markdown",
   "metadata": {
    "id": "5hza3UgVFBqn"
   },
   "source": [
    "Values of the axes are set automatically, although it is possible to modify them:"
   ]
  },
  {
   "cell_type": "code",
   "execution_count": 74,
   "metadata": {
    "id": "0ndjV3YVFAqi"
   },
   "outputs": [
    {
     "data": {
      "image/png": "[encoded data removed]",
      "text/plain": [
       "<Figure size 640x480 with 1 Axes>"
      ]
     },
     "metadata": {},
     "output_type": "display_data"
    }
   ],
   "source": [
    "x = np.linspace(1, 10, 100)\n",
    "y = np.sin(x)\n",
    "\n",
    "fig, ax = plt.subplots()\n",
    "\n",
    "ax.plot(x, y, c='r', linestyle='-.', label='sin(x)') \n",
    "ax.legend() \n",
    "ax.set_title('Sin(x)')\n",
    "ax.set_xlabel('x')\n",
    "ax.set_ylabel('y')\n",
    "ax.set_xlim(0,11)\n",
    "ax.set_ylim(-1.5,1.5)\n",
    "ax.grid(True)\n",
    "\n",
    "plt.show()"
   ]
  },
  {
   "cell_type": "markdown",
   "metadata": {
    "id": "7KQS-nHhFpBc"
   },
   "source": [
    "### Many plots on the same figure:"
   ]
  },
  {
   "cell_type": "code",
   "execution_count": 75,
   "metadata": {
    "id": "EMZi9-wkFAx8"
   },
   "outputs": [
    {
     "data": {
      "image/png": "[encoded data removed]",
      "text/plain": [
       "<Figure size 640x480 with 2 Axes>"
      ]
     },
     "metadata": {},
     "output_type": "display_data"
    }
   ],
   "source": [
    "x1 = np.linspace(1, 10, 100)\n",
    "y1 = np.sin(x)\n",
    "x2 = np.linspace(1, 10, 10)\n",
    "y2 = np.sin(x2)\n",
    "\n",
    "\n",
    "fig, (ax1, ax2) = plt.subplots(nrows=2, ncols=1) # two plots, one above the other\n",
    "# plot no 1\n",
    "ax1.plot(x1, y1, c='r', linestyle='-.', label='sin(x)') \n",
    "ax1.legend() \n",
    "ax1.set_title('Sin(x) nr 1')\n",
    "ax1.set_xlabel('x')\n",
    "ax1.set_ylabel('y')\n",
    "ax1.grid(True)\n",
    "# plot no 2\n",
    "ax2.scatter(x2, y2, color='r', label='sin(x)') \n",
    "ax2.legend() \n",
    "ax2.set_title('Sin(x) nr 2')\n",
    "ax2.set_xlabel('x')\n",
    "ax2.set_ylabel('y')\n",
    "ax2.grid(True)\n",
    "\n",
    "plt.show()"
   ]
  },
  {
   "cell_type": "markdown",
   "metadata": {
    "id": "7bT1TtQ2Fyw3"
   },
   "source": [
    "## Histogram."
   ]
  },
  {
   "cell_type": "code",
   "execution_count": 76,
   "metadata": {
    "id": "PC0djHYtFA1z"
   },
   "outputs": [
    {
     "data": {
      "image/png": "[encoded data removed]",
      "text/plain": [
       "<Figure size 640x480 with 2 Axes>"
      ]
     },
     "metadata": {},
     "output_type": "display_data"
    }
   ],
   "source": [
    "x = np.random.randn(100) # 100 points from the standard normal disribution\n",
    "\n",
    "fig, (ax1, ax2) = plt.subplots(nrows=2, ncols=1)\n",
    "\n",
    "ax1.scatter(range(len(x)), x, color='r') \n",
    "ax1.set_title('Random')\n",
    "ax1.set_xlabel('nr')\n",
    "ax1.set_ylabel('y')\n",
    "ax1.grid(True)\n",
    "\n",
    "ax2.hist(x, 20) #for other options see documentations\n",
    "ax2.set_xlabel('x')\n",
    "ax2.set_ylabel('frequency')\n",
    "ax2.grid(True)\n",
    "\n",
    "plt.show()"
   ]
  },
  {
   "cell_type": "markdown",
   "metadata": {
    "id": "_gXBuKWAF-iw"
   },
   "source": [
    "### 3D plots:"
   ]
  },
  {
   "cell_type": "code",
   "execution_count": 77,
   "metadata": {
    "id": "ndFuJ57jFA_H"
   },
   "outputs": [
    {
     "data": {
      "image/png": "[encoded data removed]",
      "text/plain": [
       "<Figure size 640x480 with 1 Axes>"
      ]
     },
     "metadata": {},
     "output_type": "display_data"
    }
   ],
   "source": [
    "from mpl_toolkits.mplot3d import Axes3D\n",
    "\n",
    "x = np.random.randn(100)\n",
    "y = np.random.randn(100)\n",
    "z = np.random.randn(100)\n",
    "\n",
    "fig = plt.figure()\n",
    "ax = fig.add_subplot(111, projection='3d')\n",
    "ax.scatter(x, y, z, c='r', marker='o')\n",
    "ax.set_xlabel('X')\n",
    "ax.set_ylabel('Y')\n",
    "ax.set_zlabel('Z')\n",
    "\n",
    "plt.show()"
   ]
  },
  {
   "cell_type": "markdown",
   "metadata": {
    "id": "8yRvNoosGURJ"
   },
   "source": [
    "Cool example from the gallery:"
   ]
  },
  {
   "cell_type": "code",
   "execution_count": 78,
   "metadata": {
    "id": "pX3lNnABFAoA"
   },
   "outputs": [
    {
     "ename": "TypeError",
     "evalue": "FigureBase.gca() got an unexpected keyword argument 'projection'",
     "output_type": "error",
     "traceback": [
      "\u001b[1;31m---------------------------------------------------------------------------\u001b[0m",
      "\u001b[1;31mTypeError\u001b[0m                                 Traceback (most recent call last)",
      "Cell \u001b[1;32mIn [78], line 6\u001b[0m\n\u001b[0;32m      3\u001b[0m \u001b[39mfrom\u001b[39;00m \u001b[39mmatplotlib\u001b[39;00m \u001b[39mimport\u001b[39;00m cm\n\u001b[0;32m      5\u001b[0m fig \u001b[39m=\u001b[39m plt\u001b[39m.\u001b[39mfigure()\n\u001b[1;32m----> 6\u001b[0m ax \u001b[39m=\u001b[39m fig\u001b[39m.\u001b[39;49mgca(projection\u001b[39m=\u001b[39;49m\u001b[39m'\u001b[39;49m\u001b[39m3d\u001b[39;49m\u001b[39m'\u001b[39;49m)\n\u001b[0;32m      7\u001b[0m X, Y, Z \u001b[39m=\u001b[39m axes3d\u001b[39m.\u001b[39mget_test_data(\u001b[39m0.05\u001b[39m)\n\u001b[0;32m      8\u001b[0m ax\u001b[39m.\u001b[39mplot_surface(X, Y, Z, rstride\u001b[39m=\u001b[39m\u001b[39m8\u001b[39m, cstride\u001b[39m=\u001b[39m\u001b[39m8\u001b[39m, alpha\u001b[39m=\u001b[39m\u001b[39m0.3\u001b[39m)\n",
      "\u001b[1;31mTypeError\u001b[0m: FigureBase.gca() got an unexpected keyword argument 'projection'"
     ]
    },
    {
     "data": {
      "text/plain": [
       "<Figure size 640x480 with 0 Axes>"
      ]
     },
     "metadata": {},
     "output_type": "display_data"
    }
   ],
   "source": [
    "from mpl_toolkits.mplot3d import axes3d\n",
    "import matplotlib.pyplot as plt\n",
    "from matplotlib import cm\n",
    "\n",
    "fig = plt.figure()\n",
    "ax = fig.gca(projection='3d')\n",
    "X, Y, Z = axes3d.get_test_data(0.05)\n",
    "ax.plot_surface(X, Y, Z, rstride=8, cstride=8, alpha=0.3)\n",
    "cset = ax.contour(X, Y, Z, zdir='z', offset=-100, cmap=cm.coolwarm)\n",
    "cset = ax.contour(X, Y, Z, zdir='x', offset=-40, cmap=cm.coolwarm)\n",
    "cset = ax.contour(X, Y, Z, zdir='y', offset=40, cmap=cm.coolwarm)\n",
    "\n",
    "ax.set_xlabel('X')\n",
    "ax.set_xlim(-40, 40)\n",
    "ax.set_ylabel('Y')\n",
    "ax.set_ylim(-40, 40)\n",
    "ax.set_zlabel('Z')\n",
    "ax.set_zlim(-100, 100)\n",
    "\n",
    "plt.show()"
   ]
  },
  {
   "cell_type": "markdown",
   "metadata": {
    "id": "C57dALyNj4Se"
   },
   "source": [
    "&copy; Katedra Informatyki, Politechnika Krakowska"
   ]
  }
 ],
 "metadata": {
  "colab": {
   "authorship_tag": "ABX9TyOPfBFztz6PhR4kU9RLXGgg",
   "collapsed_sections": [],
   "name": "Python_Lab_1.ipynb",
   "provenance": []
  },
  "kernelspec": {
   "display_name": "Python 3.10.7 64-bit",
   "language": "python",
   "name": "python3"
  },
  "language_info": {
   "codemirror_mode": {
    "name": "ipython",
    "version": 3
   },
   "file_extension": ".py",
   "mimetype": "text/x-python",
   "name": "python",
   "nbconvert_exporter": "python",
   "pygments_lexer": "ipython3",
   "version": "3.10.7"
  },
  "vscode": {
   "interpreter": {
    "hash": "1e76b92fdf8d35e2ac4e5192e1034d0c31c234365fb2d8a16f8f6adbda169ed6"
   }
  }
 },
 "nbformat": 4,
 "nbformat_minor": 4
}
